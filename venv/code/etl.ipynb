{
 "cells": [
  {
   "cell_type": "code",
   "execution_count": 2,
   "metadata": {},
   "outputs": [],
   "source": [
    "import pandas as pd\n",
    "import numpy as np\n",
    "import random\n",
    "import json\n",
    "import gzip\n",
    "import ast\n",
    "import pyarrow as pa\n",
    "import pyarrow.parquet as pq\n",
    "from nltk.corpus import stopwords\n",
    "from nltk.tokenize import word_tokenize\n",
    "from nltk.stem import WordNetLemmatizer\n",
    "import string\n",
    "from textblob import TextBlob\n",
    "import re\n",
    "from unidecode import unidecode"
   ]
  },
  {
   "cell_type": "markdown",
   "metadata": {},
   "source": [
    "# Crearemos los Dataframe"
   ]
  },
  {
   "cell_type": "code",
   "execution_count": 4,
   "metadata": {},
   "outputs": [],
   "source": [
    "# Lista vacía para almacenar los datos leídos del archivo, crear el Dataframe con el comprimido 'steam_games.json.gz'\n",
    "data1 = []\n",
    "\n",
    "# Abrir el archivo comprimido 'steam_games.json.gz' en modo lectura\n",
    "with gzip.open('steam_games.json.gz', 'rb') as archivo1:\n",
    "    # Iterar sobre cada línea del archivo\n",
    "    for linea in archivo1:\n",
    "        # Cargar cada línea como un objeto JSON y añadirlo a la lista 'data1'\n",
    "        data1.append(json.loads(linea))\n",
    "\n",
    "# Crear un DataFrame de pandas ('df_games') a partir de la lista de datos obtenidos\n",
    "df_games = pd.DataFrame(data1)\n",
    "\n",
    "# Convertir la columna 'price' a valores numéricos, reemplazando 'Free To Play' con 0\n",
    "df_games['price'] = pd.to_numeric(df_games['price'], errors='coerce').fillna(0)\n",
    "\n",
    "# Escribir el DataFrame limpio como un archivo Parquet\n",
    "nombre_archivo_parquet = '..\\\\data\\\\steam_games.parquet'\n",
    "\n",
    "# Convertir el DataFrame en una tabla Arrow\n",
    "tabla_arrow = pa.Table.from_pandas(df_games)\n",
    "\n",
    "# Escribir la tabla Arrow como un archivo Parquet\n",
    "pq.write_table(tabla_arrow, nombre_archivo_parquet)"
   ]
  },
  {
   "cell_type": "code",
   "execution_count": 3,
   "metadata": {},
   "outputs": [],
   "source": [
    "# Lista vacía para almacenar los datos leídos del archivo, crear el Dataframe con el comprimido 'user_reviews.json.gz'\n",
    "data2 = []\n",
    "\n",
    "# Abrir el archivo comprimido 'user_reviews.json.gz' en modo lectura binaria\n",
    "with gzip.open('user_reviews.json.gz', 'rb') as archivo2:\n",
    "    # Iterar sobre cada línea del archivo\n",
    "    for linea in archivo2:\n",
    "        # Convertir la línea de bytes a un diccionario usando ast.literal_eval y utf-8 decoding\n",
    "        data2.append(ast.literal_eval(linea.decode('utf-8')))\n",
    "\n",
    "# Crear un DataFrame de pandas ('df_reviews') a partir de la lista de datos obtenidos\n",
    "df_reviews = pd.DataFrame(data2)\n",
    "\n",
    "# Escribir el DataFrame como un archivo Parquet\n",
    "nombre_archivo_parquet = '..\\\\data\\\\user_reviews.parquet'\n",
    "\n",
    "# Convertir el DataFrame en una tabla Arrow\n",
    "tabla_arrow = pa.Table.from_pandas(df_reviews)\n",
    "\n",
    "# Escribir la tabla Arrow como un archivo Parquet\n",
    "pq.write_table(tabla_arrow, nombre_archivo_parquet)"
   ]
  },
  {
   "cell_type": "code",
   "execution_count": 4,
   "metadata": {},
   "outputs": [],
   "source": [
    "# Lista vacía para almacenar los datos leídos del archivo, crear el Dataframe con el comprimido 'users_items.json.gz'\n",
    "data3 = []\n",
    "\n",
    "# Abrir el archivo comprimido 'users_items.json.gz' en modo lectura binaria\n",
    "with gzip.open('users_items.json.gz', 'rb') as archivo3:\n",
    "    # Iterar sobre cada línea del archivo\n",
    "    for linea in archivo3:\n",
    "        # Convertir la línea de bytes a un diccionario usando ast.literal_eval y utf-8 decoding\n",
    "        data3.append(ast.literal_eval(linea.decode('utf-8')))\n",
    "\n",
    "# Crear un DataFrame de pandas ('df_items') a partir de la lista de datos obtenidos\n",
    "df_items = pd.DataFrame(data3)\n",
    "\n",
    "# Escribir el DataFrame como un archivo Parquet\n",
    "nombre_archivo_parquet = '..\\\\data\\\\users_items.parquet'\n",
    "\n",
    "# Convertir el DataFrame en una tabla Arrow\n",
    "tabla_arrow = pa.Table.from_pandas(df_items)\n",
    "\n",
    "# Escribir la tabla Arrow como un archivo Parquet\n",
    "pq.write_table(tabla_arrow, nombre_archivo_parquet)"
   ]
  },
  {
   "cell_type": "markdown",
   "metadata": {},
   "source": [
    "# ETL al Dataframe 'df_games'"
   ]
  },
  {
   "cell_type": "code",
   "execution_count": 184,
   "metadata": {},
   "outputs": [],
   "source": [
    "df_games = pd.read_parquet('..\\\\data\\\\steam_games.parquet')"
   ]
  },
  {
   "cell_type": "markdown",
   "metadata": {},
   "source": [
    " Verificamos que una gran cantidad de filas completas son valores Nulos"
   ]
  },
  {
   "cell_type": "code",
   "execution_count": 185,
   "metadata": {},
   "outputs": [
    {
     "data": {
      "text/html": [
       "<div>\n",
       "<style scoped>\n",
       "    .dataframe tbody tr th:only-of-type {\n",
       "        vertical-align: middle;\n",
       "    }\n",
       "\n",
       "    .dataframe tbody tr th {\n",
       "        vertical-align: top;\n",
       "    }\n",
       "\n",
       "    .dataframe thead th {\n",
       "        text-align: right;\n",
       "    }\n",
       "</style>\n",
       "<table border=\"1\" class=\"dataframe\">\n",
       "  <thead>\n",
       "    <tr style=\"text-align: right;\">\n",
       "      <th></th>\n",
       "      <th>publisher</th>\n",
       "      <th>genres</th>\n",
       "      <th>app_name</th>\n",
       "      <th>title</th>\n",
       "      <th>url</th>\n",
       "      <th>release_date</th>\n",
       "      <th>tags</th>\n",
       "      <th>reviews_url</th>\n",
       "      <th>specs</th>\n",
       "      <th>price</th>\n",
       "      <th>early_access</th>\n",
       "      <th>id</th>\n",
       "      <th>developer</th>\n",
       "    </tr>\n",
       "  </thead>\n",
       "  <tbody>\n",
       "    <tr>\n",
       "      <th>0</th>\n",
       "      <td>None</td>\n",
       "      <td>None</td>\n",
       "      <td>None</td>\n",
       "      <td>None</td>\n",
       "      <td>None</td>\n",
       "      <td>None</td>\n",
       "      <td>None</td>\n",
       "      <td>None</td>\n",
       "      <td>None</td>\n",
       "      <td>0.0</td>\n",
       "      <td>None</td>\n",
       "      <td>None</td>\n",
       "      <td>None</td>\n",
       "    </tr>\n",
       "    <tr>\n",
       "      <th>1</th>\n",
       "      <td>None</td>\n",
       "      <td>None</td>\n",
       "      <td>None</td>\n",
       "      <td>None</td>\n",
       "      <td>None</td>\n",
       "      <td>None</td>\n",
       "      <td>None</td>\n",
       "      <td>None</td>\n",
       "      <td>None</td>\n",
       "      <td>0.0</td>\n",
       "      <td>None</td>\n",
       "      <td>None</td>\n",
       "      <td>None</td>\n",
       "    </tr>\n",
       "    <tr>\n",
       "      <th>2</th>\n",
       "      <td>None</td>\n",
       "      <td>None</td>\n",
       "      <td>None</td>\n",
       "      <td>None</td>\n",
       "      <td>None</td>\n",
       "      <td>None</td>\n",
       "      <td>None</td>\n",
       "      <td>None</td>\n",
       "      <td>None</td>\n",
       "      <td>0.0</td>\n",
       "      <td>None</td>\n",
       "      <td>None</td>\n",
       "      <td>None</td>\n",
       "    </tr>\n",
       "    <tr>\n",
       "      <th>3</th>\n",
       "      <td>None</td>\n",
       "      <td>None</td>\n",
       "      <td>None</td>\n",
       "      <td>None</td>\n",
       "      <td>None</td>\n",
       "      <td>None</td>\n",
       "      <td>None</td>\n",
       "      <td>None</td>\n",
       "      <td>None</td>\n",
       "      <td>0.0</td>\n",
       "      <td>None</td>\n",
       "      <td>None</td>\n",
       "      <td>None</td>\n",
       "    </tr>\n",
       "    <tr>\n",
       "      <th>4</th>\n",
       "      <td>None</td>\n",
       "      <td>None</td>\n",
       "      <td>None</td>\n",
       "      <td>None</td>\n",
       "      <td>None</td>\n",
       "      <td>None</td>\n",
       "      <td>None</td>\n",
       "      <td>None</td>\n",
       "      <td>None</td>\n",
       "      <td>0.0</td>\n",
       "      <td>None</td>\n",
       "      <td>None</td>\n",
       "      <td>None</td>\n",
       "    </tr>\n",
       "  </tbody>\n",
       "</table>\n",
       "</div>"
      ],
      "text/plain": [
       "  publisher genres app_name title   url release_date  tags reviews_url specs  \\\n",
       "0      None   None     None  None  None         None  None        None  None   \n",
       "1      None   None     None  None  None         None  None        None  None   \n",
       "2      None   None     None  None  None         None  None        None  None   \n",
       "3      None   None     None  None  None         None  None        None  None   \n",
       "4      None   None     None  None  None         None  None        None  None   \n",
       "\n",
       "   price early_access    id developer  \n",
       "0    0.0         None  None      None  \n",
       "1    0.0         None  None      None  \n",
       "2    0.0         None  None      None  \n",
       "3    0.0         None  None      None  \n",
       "4    0.0         None  None      None  "
      ]
     },
     "execution_count": 185,
     "metadata": {},
     "output_type": "execute_result"
    }
   ],
   "source": [
    "# Observar que existen filas que completamente nulas\n",
    "df_games.head()"
   ]
  },
  {
   "cell_type": "code",
   "execution_count": 186,
   "metadata": {},
   "outputs": [
    {
     "data": {
      "text/plain": [
       "publisher       96362\n",
       "genres          91593\n",
       "app_name        88312\n",
       "title           90360\n",
       "url             88310\n",
       "release_date    90377\n",
       "tags            88473\n",
       "reviews_url     88312\n",
       "specs           88980\n",
       "price               0\n",
       "early_access    88310\n",
       "id              88312\n",
       "developer       91609\n",
       "dtype: int64"
      ]
     },
     "execution_count": 186,
     "metadata": {},
     "output_type": "execute_result"
    }
   ],
   "source": [
    "# Contar los valores nulos por columna\n",
    "nulos_por_columna = df_games.isnull().sum(axis=0)\n",
    "nulos_por_columna"
   ]
  },
  {
   "cell_type": "code",
   "execution_count": 187,
   "metadata": {},
   "outputs": [],
   "source": [
    "# Identificar las filas completamente Nulas, considerando que para esta, el valor de la columna 'price' es 0\n",
    "condicion_filtrado = (df_games['price'] == 0) & (df_games.drop(columns=['price']).isnull().all(axis=1))\n",
    "\n",
    "'''\n",
    "Eliminar las filas que cumplen las condiciones expuestas anteriormente, con ~ creamos \n",
    "este nuevo Dataframe con los valores que no cumplen la condicion\n",
    "'''\n",
    "df_games = df_games[~condicion_filtrado]"
   ]
  },
  {
   "cell_type": "code",
   "execution_count": 188,
   "metadata": {},
   "outputs": [
    {
     "data": {
      "text/plain": [
       "publisher       8052\n",
       "genres          3283\n",
       "app_name           2\n",
       "title           2050\n",
       "url                0\n",
       "release_date    2067\n",
       "tags             163\n",
       "reviews_url        2\n",
       "specs            670\n",
       "price              0\n",
       "early_access       0\n",
       "id                 2\n",
       "developer       3299\n",
       "dtype: int64"
      ]
     },
     "execution_count": 188,
     "metadata": {},
     "output_type": "execute_result"
    }
   ],
   "source": [
    "# Contar los valores nulos por columna luego de eliminar filas completamente nulas\n",
    "nulos_por_columna = df_games.isnull().sum(axis=0)\n",
    "nulos_por_columna"
   ]
  },
  {
   "cell_type": "code",
   "execution_count": 189,
   "metadata": {},
   "outputs": [
    {
     "data": {
      "text/html": [
       "<div>\n",
       "<style scoped>\n",
       "    .dataframe tbody tr th:only-of-type {\n",
       "        vertical-align: middle;\n",
       "    }\n",
       "\n",
       "    .dataframe tbody tr th {\n",
       "        vertical-align: top;\n",
       "    }\n",
       "\n",
       "    .dataframe thead th {\n",
       "        text-align: right;\n",
       "    }\n",
       "</style>\n",
       "<table border=\"1\" class=\"dataframe\">\n",
       "  <thead>\n",
       "    <tr style=\"text-align: right;\">\n",
       "      <th></th>\n",
       "      <th>publisher</th>\n",
       "      <th>genres</th>\n",
       "      <th>app_name</th>\n",
       "      <th>title</th>\n",
       "      <th>url</th>\n",
       "      <th>release_date</th>\n",
       "      <th>tags</th>\n",
       "      <th>reviews_url</th>\n",
       "      <th>specs</th>\n",
       "      <th>price</th>\n",
       "      <th>early_access</th>\n",
       "      <th>id</th>\n",
       "      <th>developer</th>\n",
       "    </tr>\n",
       "  </thead>\n",
       "  <tbody>\n",
       "    <tr>\n",
       "      <th>88310</th>\n",
       "      <td>Kotoshiro</td>\n",
       "      <td>[Action, Casual, Indie, Simulation, Strategy]</td>\n",
       "      <td>Lost Summoner Kitty</td>\n",
       "      <td>Lost Summoner Kitty</td>\n",
       "      <td>http://store.steampowered.com/app/761140/Lost_...</td>\n",
       "      <td>2018-01-04</td>\n",
       "      <td>[Strategy, Action, Indie, Casual, Simulation]</td>\n",
       "      <td>http://steamcommunity.com/app/761140/reviews/?...</td>\n",
       "      <td>[Single-player]</td>\n",
       "      <td>4.99</td>\n",
       "      <td>False</td>\n",
       "      <td>761140</td>\n",
       "      <td>Kotoshiro</td>\n",
       "    </tr>\n",
       "    <tr>\n",
       "      <th>88311</th>\n",
       "      <td>Making Fun, Inc.</td>\n",
       "      <td>[Free to Play, Indie, RPG, Strategy]</td>\n",
       "      <td>Ironbound</td>\n",
       "      <td>Ironbound</td>\n",
       "      <td>http://store.steampowered.com/app/643980/Ironb...</td>\n",
       "      <td>2018-01-04</td>\n",
       "      <td>[Free to Play, Strategy, Indie, RPG, Card Game...</td>\n",
       "      <td>http://steamcommunity.com/app/643980/reviews/?...</td>\n",
       "      <td>[Single-player, Multi-player, Online Multi-Pla...</td>\n",
       "      <td>0.00</td>\n",
       "      <td>False</td>\n",
       "      <td>643980</td>\n",
       "      <td>Secret Level SRL</td>\n",
       "    </tr>\n",
       "  </tbody>\n",
       "</table>\n",
       "</div>"
      ],
      "text/plain": [
       "              publisher                                         genres  \\\n",
       "88310         Kotoshiro  [Action, Casual, Indie, Simulation, Strategy]   \n",
       "88311  Making Fun, Inc.           [Free to Play, Indie, RPG, Strategy]   \n",
       "\n",
       "                  app_name                title  \\\n",
       "88310  Lost Summoner Kitty  Lost Summoner Kitty   \n",
       "88311            Ironbound            Ironbound   \n",
       "\n",
       "                                                     url release_date  \\\n",
       "88310  http://store.steampowered.com/app/761140/Lost_...   2018-01-04   \n",
       "88311  http://store.steampowered.com/app/643980/Ironb...   2018-01-04   \n",
       "\n",
       "                                                    tags  \\\n",
       "88310      [Strategy, Action, Indie, Casual, Simulation]   \n",
       "88311  [Free to Play, Strategy, Indie, RPG, Card Game...   \n",
       "\n",
       "                                             reviews_url  \\\n",
       "88310  http://steamcommunity.com/app/761140/reviews/?...   \n",
       "88311  http://steamcommunity.com/app/643980/reviews/?...   \n",
       "\n",
       "                                                   specs  price early_access  \\\n",
       "88310                                    [Single-player]   4.99        False   \n",
       "88311  [Single-player, Multi-player, Online Multi-Pla...   0.00        False   \n",
       "\n",
       "           id         developer  \n",
       "88310  761140         Kotoshiro  \n",
       "88311  643980  Secret Level SRL  "
      ]
     },
     "execution_count": 189,
     "metadata": {},
     "output_type": "execute_result"
    }
   ],
   "source": [
    "df_games.head(2)"
   ]
  },
  {
   "cell_type": "markdown",
   "metadata": {},
   "source": [
    "Seguimos buscando nulos en filas que poco afectan la funcionalidad del Dataframe"
   ]
  },
  {
   "cell_type": "code",
   "execution_count": 190,
   "metadata": {},
   "outputs": [
    {
     "data": {
      "text/html": [
       "<div>\n",
       "<style scoped>\n",
       "    .dataframe tbody tr th:only-of-type {\n",
       "        vertical-align: middle;\n",
       "    }\n",
       "\n",
       "    .dataframe tbody tr th {\n",
       "        vertical-align: top;\n",
       "    }\n",
       "\n",
       "    .dataframe thead th {\n",
       "        text-align: right;\n",
       "    }\n",
       "</style>\n",
       "<table border=\"1\" class=\"dataframe\">\n",
       "  <thead>\n",
       "    <tr style=\"text-align: right;\">\n",
       "      <th></th>\n",
       "      <th>publisher</th>\n",
       "      <th>genres</th>\n",
       "      <th>app_name</th>\n",
       "      <th>title</th>\n",
       "      <th>url</th>\n",
       "      <th>release_date</th>\n",
       "      <th>tags</th>\n",
       "      <th>reviews_url</th>\n",
       "      <th>specs</th>\n",
       "      <th>price</th>\n",
       "      <th>early_access</th>\n",
       "      <th>id</th>\n",
       "      <th>developer</th>\n",
       "    </tr>\n",
       "  </thead>\n",
       "  <tbody>\n",
       "    <tr>\n",
       "      <th>88384</th>\n",
       "      <td>None</td>\n",
       "      <td>None</td>\n",
       "      <td>None</td>\n",
       "      <td>None</td>\n",
       "      <td>http://store.steampowered.com/</td>\n",
       "      <td>None</td>\n",
       "      <td>None</td>\n",
       "      <td>None</td>\n",
       "      <td>None</td>\n",
       "      <td>19.99</td>\n",
       "      <td>False</td>\n",
       "      <td>None</td>\n",
       "      <td>None</td>\n",
       "    </tr>\n",
       "    <tr>\n",
       "      <th>90890</th>\n",
       "      <td>None</td>\n",
       "      <td>[Action, Indie]</td>\n",
       "      <td>None</td>\n",
       "      <td>None</td>\n",
       "      <td>http://store.steampowered.com/app/317160/_/</td>\n",
       "      <td>2014-08-26</td>\n",
       "      <td>[Action, Indie]</td>\n",
       "      <td>http://steamcommunity.com/app/317160/reviews/?...</td>\n",
       "      <td>[Single-player, Game demo]</td>\n",
       "      <td>0.00</td>\n",
       "      <td>False</td>\n",
       "      <td>317160</td>\n",
       "      <td>None</td>\n",
       "    </tr>\n",
       "  </tbody>\n",
       "</table>\n",
       "</div>"
      ],
      "text/plain": [
       "      publisher           genres app_name title  \\\n",
       "88384      None             None     None  None   \n",
       "90890      None  [Action, Indie]     None  None   \n",
       "\n",
       "                                               url release_date  \\\n",
       "88384               http://store.steampowered.com/         None   \n",
       "90890  http://store.steampowered.com/app/317160/_/   2014-08-26   \n",
       "\n",
       "                  tags                                        reviews_url  \\\n",
       "88384             None                                               None   \n",
       "90890  [Action, Indie]  http://steamcommunity.com/app/317160/reviews/?...   \n",
       "\n",
       "                            specs  price early_access      id developer  \n",
       "88384                        None  19.99        False    None      None  \n",
       "90890  [Single-player, Game demo]   0.00        False  317160      None  "
      ]
     },
     "execution_count": 190,
     "metadata": {},
     "output_type": "execute_result"
    }
   ],
   "source": [
    "# Filtrar el DataFrame para mostrar las filas donde 'app_name' es nula para comparar con 'title'\n",
    "app_name_nulo = df_games[df_games['app_name'].isnull()]\n",
    "app_name_nulo"
   ]
  },
  {
   "cell_type": "code",
   "execution_count": 191,
   "metadata": {},
   "outputs": [],
   "source": [
    "''' \n",
    "Eliminar las filas donde 'app_name' es nula ya que en estas mismas el valor de 'title' \n",
    "es tambien nulo, y no existe otra forma de identificar los titulos de estos Games\n",
    "'''\n",
    "df_games = df_games.dropna(subset=['app_name'])"
   ]
  },
  {
   "cell_type": "code",
   "execution_count": 192,
   "metadata": {},
   "outputs": [],
   "source": [
    "# Seleccionar solo las columnas deseadas del DataFrame original\n",
    "columnas = ['genres', 'app_name', 'release_date', 'id']\n",
    "df_games = df_games[columnas]"
   ]
  },
  {
   "cell_type": "markdown",
   "metadata": {},
   "source": [
    "Cambiamos el nombre de la columna 'id'"
   ]
  },
  {
   "cell_type": "code",
   "execution_count": 193,
   "metadata": {},
   "outputs": [
    {
     "data": {
      "text/html": [
       "<div>\n",
       "<style scoped>\n",
       "    .dataframe tbody tr th:only-of-type {\n",
       "        vertical-align: middle;\n",
       "    }\n",
       "\n",
       "    .dataframe tbody tr th {\n",
       "        vertical-align: top;\n",
       "    }\n",
       "\n",
       "    .dataframe thead th {\n",
       "        text-align: right;\n",
       "    }\n",
       "</style>\n",
       "<table border=\"1\" class=\"dataframe\">\n",
       "  <thead>\n",
       "    <tr style=\"text-align: right;\">\n",
       "      <th></th>\n",
       "      <th>genres</th>\n",
       "      <th>app_name</th>\n",
       "      <th>release_date</th>\n",
       "      <th>id_game</th>\n",
       "    </tr>\n",
       "  </thead>\n",
       "  <tbody>\n",
       "    <tr>\n",
       "      <th>88310</th>\n",
       "      <td>[Action, Casual, Indie, Simulation, Strategy]</td>\n",
       "      <td>Lost Summoner Kitty</td>\n",
       "      <td>2018-01-04</td>\n",
       "      <td>761140</td>\n",
       "    </tr>\n",
       "  </tbody>\n",
       "</table>\n",
       "</div>"
      ],
      "text/plain": [
       "                                              genres             app_name  \\\n",
       "88310  [Action, Casual, Indie, Simulation, Strategy]  Lost Summoner Kitty   \n",
       "\n",
       "      release_date id_game  \n",
       "88310   2018-01-04  761140  "
      ]
     },
     "execution_count": 193,
     "metadata": {},
     "output_type": "execute_result"
    }
   ],
   "source": [
    "df_games.rename(columns={'id': 'id_game'}, inplace=True)\n",
    "df_games.head(1)"
   ]
  },
  {
   "cell_type": "code",
   "execution_count": 194,
   "metadata": {},
   "outputs": [
    {
     "data": {
      "text/plain": [
       "array(['Action', 'Casual', 'Indie', 'Simulation', 'Strategy',\n",
       "       'Free to Play', 'RPG', 'Sports', 'Adventure', None, 'Racing',\n",
       "       'Early Access', 'Massively Multiplayer',\n",
       "       'Animation &amp; Modeling', 'Video Production', 'Utilities',\n",
       "       'Web Publishing', 'Education', 'Software Training',\n",
       "       'Design &amp; Illustration', 'Audio Production', 'Photo Editing',\n",
       "       'Accounting'], dtype=object)"
      ]
     },
     "execution_count": 194,
     "metadata": {},
     "output_type": "execute_result"
    }
   ],
   "source": [
    "# Desempacar las listas que conforman la columna 'genres' en valores unicos, solo para consultar\n",
    "df_expanded = df_games['genres'].explode()\n",
    "valores_unicos = df_expanded.unique()\n",
    "valores_unicos"
   ]
  },
  {
   "cell_type": "code",
   "execution_count": 195,
   "metadata": {},
   "outputs": [
    {
     "data": {
      "text/plain": [
       "array(['Lost Summoner Kitty', 'Ironbound', 'Real Pool 3D - Poolians', ...,\n",
       "       'Russian Roads', 'EXIT 2 - Directions', 'Maze Run VR'],\n",
       "      dtype=object)"
      ]
     },
     "execution_count": 195,
     "metadata": {},
     "output_type": "execute_result"
    }
   ],
   "source": [
    "# Desempacar las listas que conforman la columna 'app_name' en valores unicos, solo para consultar\n",
    "df_expanded = df_games['app_name'].explode()\n",
    "valores_unicos = df_expanded.unique()\n",
    "valores_unicos"
   ]
  },
  {
   "cell_type": "code",
   "execution_count": 196,
   "metadata": {},
   "outputs": [
    {
     "data": {
      "text/plain": [
       "app_name\n",
       "Soundtrack                                3\n",
       "Goro                                      2\n",
       "Puzzle Blocks                             2\n",
       "WARZONE                                   2\n",
       "Mars 2030                                 2\n",
       "                                         ..\n",
       "Secret World Legends: Operative Bundle    1\n",
       "VR - Killing Town / 杀戮小镇                  1\n",
       "Lionheart                                 1\n",
       "Secret World Legends                      1\n",
       "Maze Run VR                               1\n",
       "Name: count, Length: 32094, dtype: int64"
      ]
     },
     "execution_count": 196,
     "metadata": {},
     "output_type": "execute_result"
    }
   ],
   "source": [
    "# Contar los valores únicos en la columna 'app_name'\n",
    "valores_unicos_count = df_games['app_name'].value_counts()\n",
    "valores_unicos_count"
   ]
  },
  {
   "cell_type": "code",
   "execution_count": 197,
   "metadata": {},
   "outputs": [],
   "source": [
    "df_games.reset_index(drop=True, inplace=True)"
   ]
  },
  {
   "cell_type": "code",
   "execution_count": 198,
   "metadata": {},
   "outputs": [
    {
     "data": {
      "text/html": [
       "<div>\n",
       "<style scoped>\n",
       "    .dataframe tbody tr th:only-of-type {\n",
       "        vertical-align: middle;\n",
       "    }\n",
       "\n",
       "    .dataframe tbody tr th {\n",
       "        vertical-align: top;\n",
       "    }\n",
       "\n",
       "    .dataframe thead th {\n",
       "        text-align: right;\n",
       "    }\n",
       "</style>\n",
       "<table border=\"1\" class=\"dataframe\">\n",
       "  <thead>\n",
       "    <tr style=\"text-align: right;\">\n",
       "      <th></th>\n",
       "      <th>genres</th>\n",
       "      <th>app_name</th>\n",
       "      <th>release_date</th>\n",
       "      <th>id_game</th>\n",
       "    </tr>\n",
       "  </thead>\n",
       "  <tbody>\n",
       "    <tr>\n",
       "      <th>0</th>\n",
       "      <td>[Action, Casual, Indie, Simulation, Strategy]</td>\n",
       "      <td>Lost Summoner Kitty</td>\n",
       "      <td>2018-01-04</td>\n",
       "      <td>761140</td>\n",
       "    </tr>\n",
       "    <tr>\n",
       "      <th>1</th>\n",
       "      <td>[Free to Play, Indie, RPG, Strategy]</td>\n",
       "      <td>Ironbound</td>\n",
       "      <td>2018-01-04</td>\n",
       "      <td>643980</td>\n",
       "    </tr>\n",
       "  </tbody>\n",
       "</table>\n",
       "</div>"
      ],
      "text/plain": [
       "                                          genres             app_name  \\\n",
       "0  [Action, Casual, Indie, Simulation, Strategy]  Lost Summoner Kitty   \n",
       "1           [Free to Play, Indie, RPG, Strategy]            Ironbound   \n",
       "\n",
       "  release_date id_game  \n",
       "0   2018-01-04  761140  \n",
       "1   2018-01-04  643980  "
      ]
     },
     "execution_count": 198,
     "metadata": {},
     "output_type": "execute_result"
    }
   ],
   "source": [
    "df_games.head(2)"
   ]
  },
  {
   "cell_type": "code",
   "execution_count": 199,
   "metadata": {},
   "outputs": [
    {
     "data": {
      "text/plain": [
       "genres          3282\n",
       "app_name           0\n",
       "release_date    2066\n",
       "id_game            1\n",
       "dtype: int64"
      ]
     },
     "execution_count": 199,
     "metadata": {},
     "output_type": "execute_result"
    }
   ],
   "source": [
    "# Contar los valores nulos por columna luego de eliminar filas completamente nulas\n",
    "nulos_por_columna = df_games.isnull().sum(axis=0)\n",
    "nulos_por_columna"
   ]
  },
  {
   "cell_type": "code",
   "execution_count": 200,
   "metadata": {},
   "outputs": [],
   "source": [
    "# Eliminar filas con valores nulos en la columna 'genres' Representa el 10% del DF\n",
    "df_games = df_games.dropna(subset=['genres', 'release_date', 'id_game'])"
   ]
  },
  {
   "cell_type": "code",
   "execution_count": 201,
   "metadata": {},
   "outputs": [
    {
     "name": "stdout",
     "output_type": "stream",
     "text": [
      "<class 'pandas.core.frame.DataFrame'>\n",
      "Index: 28832 entries, 0 to 32131\n",
      "Data columns (total 4 columns):\n",
      " #   Column        Non-Null Count  Dtype \n",
      "---  ------        --------------  ----- \n",
      " 0   genres        28832 non-null  object\n",
      " 1   app_name      28832 non-null  object\n",
      " 2   release_date  28832 non-null  object\n",
      " 3   id_game       28832 non-null  object\n",
      "dtypes: object(4)\n",
      "memory usage: 1.1+ MB\n"
     ]
    }
   ],
   "source": [
    "df_games.info()"
   ]
  },
  {
   "cell_type": "code",
   "execution_count": 202,
   "metadata": {},
   "outputs": [],
   "source": [
    "# Convertir la columna 'genres' de listas de palabras a strings manteniendo la estructura de las palabras\n",
    "df_games['genres'] = df_games['genres'].apply(lambda lista: ' '.join(lista))"
   ]
  },
  {
   "cell_type": "code",
   "execution_count": 203,
   "metadata": {},
   "outputs": [],
   "source": [
    "# Convertir la columna \"id_game\" a tipo (int))\n",
    "df_games['id_game'] = df_games['id_game'].astype(int)"
   ]
  },
  {
   "cell_type": "code",
   "execution_count": 204,
   "metadata": {},
   "outputs": [],
   "source": [
    "# Convertir la columna 'release_date' a tipo datetime con formato específico\n",
    "df_games['release_date'] = pd.to_datetime(df_games['release_date'], errors='coerce', format='%Y-%m-%d')\n",
    "\n",
    "# Extraer el año y almacenarlo en una nueva columna 'year_release'\n",
    "df_games['year_release'] = df_games['release_date'].dt.year\n",
    "\n",
    "# Convertir NaN a None para mantener la integridad de los datos\n",
    "df_games['year_release'] = df_games['year_release'].apply(lambda x: int(x) if not pd.isnull(x) else None)"
   ]
  },
  {
   "cell_type": "code",
   "execution_count": 205,
   "metadata": {},
   "outputs": [],
   "source": [
    "# Rellenar los valores NaN con 0 de la columna 'year_release'\n",
    "df_games['year_release'] = df_games['year_release'].fillna(0).astype(int)\n",
    "# Eliminar la columna 'release_date'\n",
    "df_games.drop(columns=['release_date'], inplace=True)"
   ]
  },
  {
   "cell_type": "code",
   "execution_count": 206,
   "metadata": {},
   "outputs": [],
   "source": [
    "# Función para normalizar el texto \n",
    "def normalize_text(text):\n",
    "    # Convertir a minúsculas y eliminar caracteres especiales\n",
    "    text = unidecode(text.lower())\n",
    "    text = re.sub(r'[^a-z0-9\\s-]', '', text)\n",
    "    # Reemplazar guiones por espacios\n",
    "    text = text.replace('-', ' ')\n",
    "    # Eliminar espacios adicionales\n",
    "    text = re.sub(r'\\s+', ' ', text).strip()\n",
    "        # Capitalizar cada palabra\n",
    "    text = ' '.join(word.capitalize() for word in text.split())\n",
    "    return text\n",
    "\n",
    "# Aplicar la función de normalización a la columna 'app_name'\n",
    "df_games['app_name_normalized'] = df_games['app_name'].apply(normalize_text)"
   ]
  },
  {
   "cell_type": "code",
   "execution_count": 207,
   "metadata": {},
   "outputs": [],
   "source": [
    "# Eliminar la columna 'app_name'\n",
    "df_games.drop(columns=['app_name'], inplace=True)"
   ]
  },
  {
   "cell_type": "code",
   "execution_count": 208,
   "metadata": {},
   "outputs": [],
   "source": [
    "# Cambiar el nombre de la columna 'app_name_normalized' a 'app_name'\n",
    "df_games.rename(columns={'app_name_normalized': 'app_name'}, inplace=True)"
   ]
  },
  {
   "cell_type": "markdown",
   "metadata": {},
   "source": [
    "Dataframe final"
   ]
  },
  {
   "cell_type": "code",
   "execution_count": 217,
   "metadata": {},
   "outputs": [
    {
     "data": {
      "text/html": [
       "<div>\n",
       "<style scoped>\n",
       "    .dataframe tbody tr th:only-of-type {\n",
       "        vertical-align: middle;\n",
       "    }\n",
       "\n",
       "    .dataframe tbody tr th {\n",
       "        vertical-align: top;\n",
       "    }\n",
       "\n",
       "    .dataframe thead th {\n",
       "        text-align: right;\n",
       "    }\n",
       "</style>\n",
       "<table border=\"1\" class=\"dataframe\">\n",
       "  <thead>\n",
       "    <tr style=\"text-align: right;\">\n",
       "      <th></th>\n",
       "      <th>genres</th>\n",
       "      <th>id_game</th>\n",
       "      <th>year_release</th>\n",
       "      <th>app_name</th>\n",
       "    </tr>\n",
       "  </thead>\n",
       "  <tbody>\n",
       "    <tr>\n",
       "      <th>0</th>\n",
       "      <td>Action Casual Indie Simulation Strategy</td>\n",
       "      <td>761140</td>\n",
       "      <td>2018</td>\n",
       "      <td>Lost Summoner Kitty</td>\n",
       "    </tr>\n",
       "    <tr>\n",
       "      <th>1</th>\n",
       "      <td>Free to Play Indie RPG Strategy</td>\n",
       "      <td>643980</td>\n",
       "      <td>2018</td>\n",
       "      <td>Ironbound</td>\n",
       "    </tr>\n",
       "    <tr>\n",
       "      <th>2</th>\n",
       "      <td>Casual Free to Play Indie Simulation Sports</td>\n",
       "      <td>670290</td>\n",
       "      <td>2017</td>\n",
       "      <td>Real Pool 3d Poolians</td>\n",
       "    </tr>\n",
       "    <tr>\n",
       "      <th>3</th>\n",
       "      <td>Action Adventure Casual</td>\n",
       "      <td>767400</td>\n",
       "      <td>2017</td>\n",
       "      <td>An Ha En 2222</td>\n",
       "    </tr>\n",
       "  </tbody>\n",
       "</table>\n",
       "</div>"
      ],
      "text/plain": [
       "                                        genres  id_game  year_release  \\\n",
       "0      Action Casual Indie Simulation Strategy   761140          2018   \n",
       "1              Free to Play Indie RPG Strategy   643980          2018   \n",
       "2  Casual Free to Play Indie Simulation Sports   670290          2017   \n",
       "3                      Action Adventure Casual   767400          2017   \n",
       "\n",
       "                app_name  \n",
       "0    Lost Summoner Kitty  \n",
       "1              Ironbound  \n",
       "2  Real Pool 3d Poolians  \n",
       "3          An Ha En 2222  "
      ]
     },
     "execution_count": 217,
     "metadata": {},
     "output_type": "execute_result"
    }
   ],
   "source": [
    "df_games.head(4)"
   ]
  },
  {
   "cell_type": "markdown",
   "metadata": {},
   "source": [
    "Guardamos como .parquet con compresion 'gzip'"
   ]
  },
  {
   "cell_type": "code",
   "execution_count": 218,
   "metadata": {},
   "outputs": [],
   "source": [
    "# Guardar el Dataframe trabajado como .parquet con compresión gzip\n",
    "ruta_archivo1 = \"..\\\\data\\\\steam_games_etl_comprimido.parquet\"\n",
    "df_games.to_parquet(ruta_archivo1, compression='gzip')"
   ]
  },
  {
   "cell_type": "markdown",
   "metadata": {},
   "source": [
    "# ETL a Dataframe 'df_items'"
   ]
  },
  {
   "cell_type": "code",
   "execution_count": 3,
   "metadata": {},
   "outputs": [],
   "source": [
    "df_items = pd.read_parquet('..\\\\data\\\\users_items.parquet')"
   ]
  },
  {
   "cell_type": "code",
   "execution_count": 4,
   "metadata": {},
   "outputs": [
    {
     "name": "stdout",
     "output_type": "stream",
     "text": [
      "<class 'pandas.core.frame.DataFrame'>\n",
      "RangeIndex: 88310 entries, 0 to 88309\n",
      "Data columns (total 5 columns):\n",
      " #   Column       Non-Null Count  Dtype \n",
      "---  ------       --------------  ----- \n",
      " 0   user_id      88310 non-null  object\n",
      " 1   items_count  88310 non-null  int64 \n",
      " 2   steam_id     88310 non-null  object\n",
      " 3   user_url     88310 non-null  object\n",
      " 4   items        88310 non-null  object\n",
      "dtypes: int64(1), object(4)\n",
      "memory usage: 3.4+ MB\n"
     ]
    }
   ],
   "source": [
    "df_items.info()"
   ]
  },
  {
   "cell_type": "code",
   "execution_count": 5,
   "metadata": {},
   "outputs": [
    {
     "data": {
      "text/plain": [
       "user_id        0\n",
       "items_count    0\n",
       "steam_id       0\n",
       "user_url       0\n",
       "items          0\n",
       "dtype: int64"
      ]
     },
     "execution_count": 5,
     "metadata": {},
     "output_type": "execute_result"
    }
   ],
   "source": [
    "# Contar los valores nulos por columna\n",
    "nulos_por_columna = df_items.isnull().sum(axis=0)\n",
    "nulos_por_columna"
   ]
  },
  {
   "cell_type": "code",
   "execution_count": 6,
   "metadata": {},
   "outputs": [
    {
     "data": {
      "text/html": [
       "<div>\n",
       "<style scoped>\n",
       "    .dataframe tbody tr th:only-of-type {\n",
       "        vertical-align: middle;\n",
       "    }\n",
       "\n",
       "    .dataframe tbody tr th {\n",
       "        vertical-align: top;\n",
       "    }\n",
       "\n",
       "    .dataframe thead th {\n",
       "        text-align: right;\n",
       "    }\n",
       "</style>\n",
       "<table border=\"1\" class=\"dataframe\">\n",
       "  <thead>\n",
       "    <tr style=\"text-align: right;\">\n",
       "      <th></th>\n",
       "      <th>user_id</th>\n",
       "      <th>items_count</th>\n",
       "      <th>steam_id</th>\n",
       "      <th>user_url</th>\n",
       "      <th>items</th>\n",
       "    </tr>\n",
       "  </thead>\n",
       "  <tbody>\n",
       "    <tr>\n",
       "      <th>0</th>\n",
       "      <td>76561197970982479</td>\n",
       "      <td>277</td>\n",
       "      <td>76561197970982479</td>\n",
       "      <td>http://steamcommunity.com/profiles/76561197970...</td>\n",
       "      <td>[{'item_id': '10', 'item_name': 'Counter-Strik...</td>\n",
       "    </tr>\n",
       "    <tr>\n",
       "      <th>1</th>\n",
       "      <td>js41637</td>\n",
       "      <td>888</td>\n",
       "      <td>76561198035864385</td>\n",
       "      <td>http://steamcommunity.com/id/js41637</td>\n",
       "      <td>[{'item_id': '10', 'item_name': 'Counter-Strik...</td>\n",
       "    </tr>\n",
       "  </tbody>\n",
       "</table>\n",
       "</div>"
      ],
      "text/plain": [
       "             user_id  items_count           steam_id  \\\n",
       "0  76561197970982479          277  76561197970982479   \n",
       "1            js41637          888  76561198035864385   \n",
       "\n",
       "                                            user_url  \\\n",
       "0  http://steamcommunity.com/profiles/76561197970...   \n",
       "1               http://steamcommunity.com/id/js41637   \n",
       "\n",
       "                                               items  \n",
       "0  [{'item_id': '10', 'item_name': 'Counter-Strik...  \n",
       "1  [{'item_id': '10', 'item_name': 'Counter-Strik...  "
      ]
     },
     "execution_count": 6,
     "metadata": {},
     "output_type": "execute_result"
    }
   ],
   "source": [
    "df_items.head(2)"
   ]
  },
  {
   "cell_type": "markdown",
   "metadata": {},
   "source": [
    "Expandimos la columna 'items', esta formada por diccionarios"
   ]
  },
  {
   "cell_type": "code",
   "execution_count": 7,
   "metadata": {},
   "outputs": [
    {
     "data": {
      "text/html": [
       "<div>\n",
       "<style scoped>\n",
       "    .dataframe tbody tr th:only-of-type {\n",
       "        vertical-align: middle;\n",
       "    }\n",
       "\n",
       "    .dataframe tbody tr th {\n",
       "        vertical-align: top;\n",
       "    }\n",
       "\n",
       "    .dataframe thead th {\n",
       "        text-align: right;\n",
       "    }\n",
       "</style>\n",
       "<table border=\"1\" class=\"dataframe\">\n",
       "  <thead>\n",
       "    <tr style=\"text-align: right;\">\n",
       "      <th></th>\n",
       "      <th>item_id</th>\n",
       "      <th>item_name</th>\n",
       "      <th>playtime_2weeks</th>\n",
       "      <th>playtime_forever</th>\n",
       "      <th>user_id</th>\n",
       "    </tr>\n",
       "  </thead>\n",
       "  <tbody>\n",
       "    <tr>\n",
       "      <th>0</th>\n",
       "      <td>10</td>\n",
       "      <td>Counter-Strike</td>\n",
       "      <td>0.0</td>\n",
       "      <td>6.0</td>\n",
       "      <td>76561197970982479</td>\n",
       "    </tr>\n",
       "    <tr>\n",
       "      <th>1</th>\n",
       "      <td>20</td>\n",
       "      <td>Team Fortress Classic</td>\n",
       "      <td>0.0</td>\n",
       "      <td>0.0</td>\n",
       "      <td>76561197970982479</td>\n",
       "    </tr>\n",
       "    <tr>\n",
       "      <th>2</th>\n",
       "      <td>30</td>\n",
       "      <td>Day of Defeat</td>\n",
       "      <td>0.0</td>\n",
       "      <td>7.0</td>\n",
       "      <td>76561197970982479</td>\n",
       "    </tr>\n",
       "    <tr>\n",
       "      <th>3</th>\n",
       "      <td>40</td>\n",
       "      <td>Deathmatch Classic</td>\n",
       "      <td>0.0</td>\n",
       "      <td>0.0</td>\n",
       "      <td>76561197970982479</td>\n",
       "    </tr>\n",
       "    <tr>\n",
       "      <th>4</th>\n",
       "      <td>50</td>\n",
       "      <td>Half-Life: Opposing Force</td>\n",
       "      <td>0.0</td>\n",
       "      <td>0.0</td>\n",
       "      <td>76561197970982479</td>\n",
       "    </tr>\n",
       "    <tr>\n",
       "      <th>...</th>\n",
       "      <td>...</td>\n",
       "      <td>...</td>\n",
       "      <td>...</td>\n",
       "      <td>...</td>\n",
       "      <td>...</td>\n",
       "    </tr>\n",
       "    <tr>\n",
       "      <th>5170010</th>\n",
       "      <td>373330</td>\n",
       "      <td>All Is Dust</td>\n",
       "      <td>0.0</td>\n",
       "      <td>0.0</td>\n",
       "      <td>76561198329548331</td>\n",
       "    </tr>\n",
       "    <tr>\n",
       "      <th>5170011</th>\n",
       "      <td>388490</td>\n",
       "      <td>One Way To Die: Steam Edition</td>\n",
       "      <td>3.0</td>\n",
       "      <td>3.0</td>\n",
       "      <td>76561198329548331</td>\n",
       "    </tr>\n",
       "    <tr>\n",
       "      <th>5170012</th>\n",
       "      <td>521570</td>\n",
       "      <td>You Have 10 Seconds 2</td>\n",
       "      <td>4.0</td>\n",
       "      <td>4.0</td>\n",
       "      <td>76561198329548331</td>\n",
       "    </tr>\n",
       "    <tr>\n",
       "      <th>5170013</th>\n",
       "      <td>519140</td>\n",
       "      <td>Minds Eyes</td>\n",
       "      <td>3.0</td>\n",
       "      <td>3.0</td>\n",
       "      <td>76561198329548331</td>\n",
       "    </tr>\n",
       "    <tr>\n",
       "      <th>5170014</th>\n",
       "      <td>NaN</td>\n",
       "      <td>NaN</td>\n",
       "      <td>NaN</td>\n",
       "      <td>NaN</td>\n",
       "      <td>edward_tremethick</td>\n",
       "    </tr>\n",
       "  </tbody>\n",
       "</table>\n",
       "<p>5170015 rows × 5 columns</p>\n",
       "</div>"
      ],
      "text/plain": [
       "        item_id                      item_name  playtime_2weeks  \\\n",
       "0            10                 Counter-Strike              0.0   \n",
       "1            20          Team Fortress Classic              0.0   \n",
       "2            30                  Day of Defeat              0.0   \n",
       "3            40             Deathmatch Classic              0.0   \n",
       "4            50      Half-Life: Opposing Force              0.0   \n",
       "...         ...                            ...              ...   \n",
       "5170010  373330                    All Is Dust              0.0   \n",
       "5170011  388490  One Way To Die: Steam Edition              3.0   \n",
       "5170012  521570          You Have 10 Seconds 2              4.0   \n",
       "5170013  519140                     Minds Eyes              3.0   \n",
       "5170014     NaN                            NaN              NaN   \n",
       "\n",
       "         playtime_forever            user_id  \n",
       "0                     6.0  76561197970982479  \n",
       "1                     0.0  76561197970982479  \n",
       "2                     7.0  76561197970982479  \n",
       "3                     0.0  76561197970982479  \n",
       "4                     0.0  76561197970982479  \n",
       "...                   ...                ...  \n",
       "5170010               0.0  76561198329548331  \n",
       "5170011               3.0  76561198329548331  \n",
       "5170012               4.0  76561198329548331  \n",
       "5170013               3.0  76561198329548331  \n",
       "5170014               NaN  edward_tremethick  \n",
       "\n",
       "[5170015 rows x 5 columns]"
      ]
     },
     "execution_count": 7,
     "metadata": {},
     "output_type": "execute_result"
    }
   ],
   "source": [
    "# Utilizar la función explode para expandir la lista de diccionarios en la columna 'items'\n",
    "df_exploded = df_items.explode('items')\n",
    "\n",
    "# Normalizar la columna 'items' ahora que se ha expandido\n",
    "df_items_normalized = pd.json_normalize(df_exploded['items'])\n",
    "\n",
    "# Agregar la columna 'user_id' para mantener la asociación con la fila original\n",
    "df_items_normalized['user_id'] = df_exploded['user_id'].values\n",
    "\n",
    "# Mostrar el DataFrame resultante\n",
    "df_items_normalized"
   ]
  },
  {
   "cell_type": "code",
   "execution_count": 8,
   "metadata": {},
   "outputs": [
    {
     "data": {
      "text/plain": [
       "item_id             16806\n",
       "item_name           16806\n",
       "playtime_2weeks     16806\n",
       "playtime_forever    16806\n",
       "user_id                 0\n",
       "dtype: int64"
      ]
     },
     "execution_count": 8,
     "metadata": {},
     "output_type": "execute_result"
    }
   ],
   "source": [
    "# Contar los valores nulos por columna del df_items_normalized\n",
    "nulos_por_columna = df_items_normalized.isnull().sum(axis=0)\n",
    "nulos_por_columna"
   ]
  },
  {
   "cell_type": "code",
   "execution_count": 9,
   "metadata": {},
   "outputs": [
    {
     "data": {
      "text/plain": [
       "item_id             0\n",
       "item_name           0\n",
       "playtime_2weeks     0\n",
       "playtime_forever    0\n",
       "user_id             0\n",
       "dtype: int64"
      ]
     },
     "execution_count": 9,
     "metadata": {},
     "output_type": "execute_result"
    }
   ],
   "source": [
    "''' Eliminar los nulos de las columnas item_id, item_name, playtime_2weeks, \n",
    "playtime_forever. Ya que estas filas no contiene ninguna otra informacion.\n",
    "Solo nos quedaremos con los datos del desempacado de la columna 'items' y los nombraremos 'df_items'\n",
    "'''\n",
    "df_items = df_items_normalized.dropna(subset=['item_id'])\n",
    "nulos_por_columna = df_items.isnull().sum(axis=0)\n",
    "nulos_por_columna"
   ]
  },
  {
   "cell_type": "code",
   "execution_count": 10,
   "metadata": {},
   "outputs": [],
   "source": [
    "# Verificar valores iguales a cero en la columna 'playtime_forever'\n",
    "filas_con_cero_playtime = df_items[df_items['playtime_forever'] == 0]"
   ]
  },
  {
   "cell_type": "markdown",
   "metadata": {},
   "source": [
    "Solo nos quedaremos con el Dataframe resultante de la expansion de la columna 'items'"
   ]
  },
  {
   "cell_type": "code",
   "execution_count": 11,
   "metadata": {},
   "outputs": [],
   "source": [
    "''' \n",
    "Eliminar las filas con valor igual a cero en 'playtime_forever', con esto lograremos \n",
    "reducir 1.884.769 filas en el Datafra, que no nos da ninguna información\n",
    "'''\n",
    "df_items = df_items[df_items['playtime_forever'] != 0]"
   ]
  },
  {
   "cell_type": "code",
   "execution_count": 12,
   "metadata": {},
   "outputs": [
    {
     "name": "stdout",
     "output_type": "stream",
     "text": [
      "<class 'pandas.core.frame.DataFrame'>\n",
      "Index: 3285246 entries, 0 to 5170013\n",
      "Data columns (total 5 columns):\n",
      " #   Column            Dtype  \n",
      "---  ------            -----  \n",
      " 0   item_id           object \n",
      " 1   item_name         object \n",
      " 2   playtime_2weeks   float64\n",
      " 3   playtime_forever  float64\n",
      " 4   user_id           object \n",
      "dtypes: float64(2), object(3)\n",
      "memory usage: 150.4+ MB\n"
     ]
    }
   ],
   "source": [
    "df_items.info()"
   ]
  },
  {
   "cell_type": "code",
   "execution_count": 17,
   "metadata": {},
   "outputs": [],
   "source": [
    "# Convertir los valores NaN a 0 en la columna 'item_id'\n",
    "df_items['item_id'] = df_items['item_id'].fillna(0)"
   ]
  },
  {
   "cell_type": "code",
   "execution_count": 18,
   "metadata": {},
   "outputs": [],
   "source": [
    "# Convertir la columna \"item_id\" a tipo cadena (int)\n",
    "df_items['item_id'] = df_items['item_id'].astype(int)"
   ]
  },
  {
   "cell_type": "code",
   "execution_count": 20,
   "metadata": {},
   "outputs": [],
   "source": [
    "# Función para normalizar el texto \n",
    "def normalize_text(text):\n",
    "    # Convertir a minúsculas y eliminar caracteres especiales\n",
    "    text = unidecode(text.lower())\n",
    "    text = re.sub(r'[^a-z0-9\\s-]', '', text)\n",
    "    # Reemplazar guiones por espacios\n",
    "    text = text.replace('-', ' ')\n",
    "    # Eliminar espacios adicionales\n",
    "    text = re.sub(r'\\s+', ' ', text).strip()\n",
    "        # Capitalizar cada palabra\n",
    "    text = ' '.join(word.capitalize() for word in text.split())\n",
    "    return text\n",
    "\n",
    "# Aplicar la función de normalización a la columna 'item_name'\n",
    "df_items['item_name_normalized'] = df_items['item_name'].apply(normalize_text)"
   ]
  },
  {
   "cell_type": "code",
   "execution_count": 24,
   "metadata": {},
   "outputs": [],
   "source": [
    "# Eliminar la columna 'item_name'\n",
    "df_items.drop(columns=['item_name'], inplace=True)"
   ]
  },
  {
   "cell_type": "code",
   "execution_count": 25,
   "metadata": {},
   "outputs": [],
   "source": [
    "# Cambiar el nombre de la columna 'item_name_normalized' a 'item_name'\n",
    "df_items.rename(columns={'item_name_normalized': 'item_name'}, inplace=True)"
   ]
  },
  {
   "cell_type": "code",
   "execution_count": 26,
   "metadata": {},
   "outputs": [
    {
     "data": {
      "text/html": [
       "<div>\n",
       "<style scoped>\n",
       "    .dataframe tbody tr th:only-of-type {\n",
       "        vertical-align: middle;\n",
       "    }\n",
       "\n",
       "    .dataframe tbody tr th {\n",
       "        vertical-align: top;\n",
       "    }\n",
       "\n",
       "    .dataframe thead th {\n",
       "        text-align: right;\n",
       "    }\n",
       "</style>\n",
       "<table border=\"1\" class=\"dataframe\">\n",
       "  <thead>\n",
       "    <tr style=\"text-align: right;\">\n",
       "      <th></th>\n",
       "      <th>item_id</th>\n",
       "      <th>playtime_2weeks</th>\n",
       "      <th>playtime_forever</th>\n",
       "      <th>user_id</th>\n",
       "      <th>item_name</th>\n",
       "    </tr>\n",
       "  </thead>\n",
       "  <tbody>\n",
       "    <tr>\n",
       "      <th>0</th>\n",
       "      <td>10</td>\n",
       "      <td>0.0</td>\n",
       "      <td>6.0</td>\n",
       "      <td>76561197970982479</td>\n",
       "      <td>Counter Strike</td>\n",
       "    </tr>\n",
       "    <tr>\n",
       "      <th>2</th>\n",
       "      <td>30</td>\n",
       "      <td>0.0</td>\n",
       "      <td>7.0</td>\n",
       "      <td>76561197970982479</td>\n",
       "      <td>Day Of Defeat</td>\n",
       "    </tr>\n",
       "    <tr>\n",
       "      <th>8</th>\n",
       "      <td>300</td>\n",
       "      <td>0.0</td>\n",
       "      <td>4733.0</td>\n",
       "      <td>76561197970982479</td>\n",
       "      <td>Day Of Defeat Source</td>\n",
       "    </tr>\n",
       "    <tr>\n",
       "      <th>9</th>\n",
       "      <td>240</td>\n",
       "      <td>0.0</td>\n",
       "      <td>1853.0</td>\n",
       "      <td>76561197970982479</td>\n",
       "      <td>Counter Strike Source</td>\n",
       "    </tr>\n",
       "    <tr>\n",
       "      <th>10</th>\n",
       "      <td>3830</td>\n",
       "      <td>0.0</td>\n",
       "      <td>333.0</td>\n",
       "      <td>76561197970982479</td>\n",
       "      <td>Psychonauts</td>\n",
       "    </tr>\n",
       "    <tr>\n",
       "      <th>...</th>\n",
       "      <td>...</td>\n",
       "      <td>...</td>\n",
       "      <td>...</td>\n",
       "      <td>...</td>\n",
       "      <td>...</td>\n",
       "    </tr>\n",
       "    <tr>\n",
       "      <th>5170007</th>\n",
       "      <td>304930</td>\n",
       "      <td>677.0</td>\n",
       "      <td>677.0</td>\n",
       "      <td>76561198329548331</td>\n",
       "      <td>Unturned</td>\n",
       "    </tr>\n",
       "    <tr>\n",
       "      <th>5170008</th>\n",
       "      <td>227940</td>\n",
       "      <td>43.0</td>\n",
       "      <td>43.0</td>\n",
       "      <td>76561198329548331</td>\n",
       "      <td>Heroes Generals</td>\n",
       "    </tr>\n",
       "    <tr>\n",
       "      <th>5170011</th>\n",
       "      <td>388490</td>\n",
       "      <td>3.0</td>\n",
       "      <td>3.0</td>\n",
       "      <td>76561198329548331</td>\n",
       "      <td>One Way To Die Steam Edition</td>\n",
       "    </tr>\n",
       "    <tr>\n",
       "      <th>5170012</th>\n",
       "      <td>521570</td>\n",
       "      <td>4.0</td>\n",
       "      <td>4.0</td>\n",
       "      <td>76561198329548331</td>\n",
       "      <td>You Have 10 Seconds 2</td>\n",
       "    </tr>\n",
       "    <tr>\n",
       "      <th>5170013</th>\n",
       "      <td>519140</td>\n",
       "      <td>3.0</td>\n",
       "      <td>3.0</td>\n",
       "      <td>76561198329548331</td>\n",
       "      <td>Minds Eyes</td>\n",
       "    </tr>\n",
       "  </tbody>\n",
       "</table>\n",
       "<p>3285246 rows × 5 columns</p>\n",
       "</div>"
      ],
      "text/plain": [
       "         item_id  playtime_2weeks  playtime_forever            user_id  \\\n",
       "0             10              0.0               6.0  76561197970982479   \n",
       "2             30              0.0               7.0  76561197970982479   \n",
       "8            300              0.0            4733.0  76561197970982479   \n",
       "9            240              0.0            1853.0  76561197970982479   \n",
       "10          3830              0.0             333.0  76561197970982479   \n",
       "...          ...              ...               ...                ...   \n",
       "5170007   304930            677.0             677.0  76561198329548331   \n",
       "5170008   227940             43.0              43.0  76561198329548331   \n",
       "5170011   388490              3.0               3.0  76561198329548331   \n",
       "5170012   521570              4.0               4.0  76561198329548331   \n",
       "5170013   519140              3.0               3.0  76561198329548331   \n",
       "\n",
       "                            item_name  \n",
       "0                      Counter Strike  \n",
       "2                       Day Of Defeat  \n",
       "8                Day Of Defeat Source  \n",
       "9               Counter Strike Source  \n",
       "10                        Psychonauts  \n",
       "...                               ...  \n",
       "5170007                      Unturned  \n",
       "5170008               Heroes Generals  \n",
       "5170011  One Way To Die Steam Edition  \n",
       "5170012         You Have 10 Seconds 2  \n",
       "5170013                    Minds Eyes  \n",
       "\n",
       "[3285246 rows x 5 columns]"
      ]
     },
     "execution_count": 26,
     "metadata": {},
     "output_type": "execute_result"
    }
   ],
   "source": [
    "df_items"
   ]
  },
  {
   "cell_type": "code",
   "execution_count": 37,
   "metadata": {},
   "outputs": [],
   "source": [
    "# Aplicar la función de normalización a la columna 'user_id'\n",
    "df_items['user_id_normalized'] = df_items['user_id'].apply(normalize_text)"
   ]
  },
  {
   "cell_type": "code",
   "execution_count": 40,
   "metadata": {},
   "outputs": [],
   "source": [
    "# Convertir la columna \"user_id_normalized\" a tipo cadena (str)\n",
    "df_items['user_id_normalized'] = df_items['user_id_normalized'].astype(str)"
   ]
  },
  {
   "cell_type": "code",
   "execution_count": 42,
   "metadata": {},
   "outputs": [],
   "source": [
    "# Eliminar la columna 'user_id_normalized'\n",
    "df_items.drop(columns=['user_id'], inplace=True)"
   ]
  },
  {
   "cell_type": "code",
   "execution_count": 43,
   "metadata": {},
   "outputs": [],
   "source": [
    "# Cambiar el nombre de la columna 'item_name_normalized' a 'item_name'\n",
    "df_items.rename(columns={'user_id_normalized': 'user_id'}, inplace=True)"
   ]
  },
  {
   "cell_type": "code",
   "execution_count": 44,
   "metadata": {},
   "outputs": [],
   "source": [
    "# Resetear índices del DataFrame\n",
    "df_items.reset_index(drop=True, inplace=True)"
   ]
  },
  {
   "cell_type": "code",
   "execution_count": 47,
   "metadata": {},
   "outputs": [],
   "source": [
    "'''\n",
    "Muestrear el DataFrame, hacer sample de un 10% de manera aleatoria para poder \n",
    "reducir el tamaño en memoria luego de revisar todas las formas posibles,\n",
    "colocando una semilla para mantener la distriducion y Data de la muestra en caso de \n",
    "nuevas consultas necesarias\n",
    "'''\n",
    "# Establecer la semilla para reproducibilidad\n",
    "random.seed(123)\n",
    "# Muestrear el DataFrame con una semilla establecida\n",
    "df_items = df_items.sample(frac=0.1)  # Obtener una muestra aleatoria del 10% del DataFrame"
   ]
  },
  {
   "cell_type": "code",
   "execution_count": 48,
   "metadata": {},
   "outputs": [
    {
     "name": "stdout",
     "output_type": "stream",
     "text": [
      "<class 'pandas.core.frame.DataFrame'>\n",
      "Index: 328525 entries, 726739 to 3056242\n",
      "Data columns (total 5 columns):\n",
      " #   Column            Non-Null Count   Dtype  \n",
      "---  ------            --------------   -----  \n",
      " 0   item_id           328525 non-null  int32  \n",
      " 1   playtime_2weeks   328525 non-null  float32\n",
      " 2   playtime_forever  328525 non-null  float64\n",
      " 3   item_name         328525 non-null  object \n",
      " 4   user_id           328525 non-null  object \n",
      "dtypes: float32(1), float64(1), int32(1), object(2)\n",
      "memory usage: 12.5+ MB\n"
     ]
    }
   ],
   "source": [
    "df_items.info()"
   ]
  },
  {
   "cell_type": "code",
   "execution_count": 49,
   "metadata": {},
   "outputs": [
    {
     "data": {
      "text/html": [
       "<div>\n",
       "<style scoped>\n",
       "    .dataframe tbody tr th:only-of-type {\n",
       "        vertical-align: middle;\n",
       "    }\n",
       "\n",
       "    .dataframe tbody tr th {\n",
       "        vertical-align: top;\n",
       "    }\n",
       "\n",
       "    .dataframe thead th {\n",
       "        text-align: right;\n",
       "    }\n",
       "</style>\n",
       "<table border=\"1\" class=\"dataframe\">\n",
       "  <thead>\n",
       "    <tr style=\"text-align: right;\">\n",
       "      <th></th>\n",
       "      <th>item_id</th>\n",
       "      <th>playtime_2weeks</th>\n",
       "      <th>playtime_forever</th>\n",
       "      <th>item_name</th>\n",
       "      <th>user_id</th>\n",
       "    </tr>\n",
       "  </thead>\n",
       "  <tbody>\n",
       "    <tr>\n",
       "      <th>726739</th>\n",
       "      <td>237950</td>\n",
       "      <td>0.0</td>\n",
       "      <td>13.0</td>\n",
       "      <td>Ufo Afterlight</td>\n",
       "      <td>76561198043033300</td>\n",
       "    </tr>\n",
       "    <tr>\n",
       "      <th>2989728</th>\n",
       "      <td>284160</td>\n",
       "      <td>0.0</td>\n",
       "      <td>715.0</td>\n",
       "      <td>Beamngdrive</td>\n",
       "      <td>76561198067920272</td>\n",
       "    </tr>\n",
       "    <tr>\n",
       "      <th>2566495</th>\n",
       "      <td>35700</td>\n",
       "      <td>0.0</td>\n",
       "      <td>5.0</td>\n",
       "      <td>Trine</td>\n",
       "      <td>Suiluj</td>\n",
       "    </tr>\n",
       "    <tr>\n",
       "      <th>1905503</th>\n",
       "      <td>204300</td>\n",
       "      <td>0.0</td>\n",
       "      <td>97.0</td>\n",
       "      <td>Awesomenauts</td>\n",
       "      <td>Marshmallowrin</td>\n",
       "    </tr>\n",
       "    <tr>\n",
       "      <th>2929502</th>\n",
       "      <td>330830</td>\n",
       "      <td>0.0</td>\n",
       "      <td>223.0</td>\n",
       "      <td>Tales From The Borderlands</td>\n",
       "      <td>T0mernat0r</td>\n",
       "    </tr>\n",
       "  </tbody>\n",
       "</table>\n",
       "</div>"
      ],
      "text/plain": [
       "         item_id  playtime_2weeks  playtime_forever  \\\n",
       "726739    237950              0.0              13.0   \n",
       "2989728   284160              0.0             715.0   \n",
       "2566495    35700              0.0               5.0   \n",
       "1905503   204300              0.0              97.0   \n",
       "2929502   330830              0.0             223.0   \n",
       "\n",
       "                          item_name            user_id  \n",
       "726739               Ufo Afterlight  76561198043033300  \n",
       "2989728                 Beamngdrive  76561198067920272  \n",
       "2566495                       Trine             Suiluj  \n",
       "1905503                Awesomenauts     Marshmallowrin  \n",
       "2929502  Tales From The Borderlands         T0mernat0r  "
      ]
     },
     "execution_count": 49,
     "metadata": {},
     "output_type": "execute_result"
    }
   ],
   "source": [
    "df_items.head()"
   ]
  },
  {
   "cell_type": "code",
   "execution_count": 50,
   "metadata": {},
   "outputs": [],
   "source": [
    "# Guardar el Dataframe trabajado como .parquet con compresión gzip\n",
    "ruta_archivo2 = \"..\\\\data\\\\users_items_etl_comprimido.parquet\"\n",
    "df_items.to_parquet(ruta_archivo2, compression='gzip')"
   ]
  },
  {
   "cell_type": "markdown",
   "metadata": {},
   "source": [
    "# ETL a Dataframe 'df_reviews'"
   ]
  },
  {
   "cell_type": "code",
   "execution_count": 3,
   "metadata": {},
   "outputs": [],
   "source": [
    "df_reviews = pd.read_parquet('..\\\\data\\\\user_reviews.parquet')"
   ]
  },
  {
   "cell_type": "code",
   "execution_count": 4,
   "metadata": {},
   "outputs": [
    {
     "name": "stdout",
     "output_type": "stream",
     "text": [
      "<class 'pandas.core.frame.DataFrame'>\n",
      "RangeIndex: 25799 entries, 0 to 25798\n",
      "Data columns (total 3 columns):\n",
      " #   Column    Non-Null Count  Dtype \n",
      "---  ------    --------------  ----- \n",
      " 0   user_id   25799 non-null  object\n",
      " 1   user_url  25799 non-null  object\n",
      " 2   reviews   25799 non-null  object\n",
      "dtypes: object(3)\n",
      "memory usage: 604.8+ KB\n"
     ]
    }
   ],
   "source": [
    "df_reviews.info()"
   ]
  },
  {
   "cell_type": "code",
   "execution_count": 5,
   "metadata": {},
   "outputs": [
    {
     "data": {
      "text/plain": [
       "user_id     0\n",
       "user_url    0\n",
       "reviews     0\n",
       "dtype: int64"
      ]
     },
     "execution_count": 5,
     "metadata": {},
     "output_type": "execute_result"
    }
   ],
   "source": [
    "# Contar los valores nulos por columna\n",
    "nulos_por_columna = df_reviews.isnull().sum(axis=0)\n",
    "nulos_por_columna"
   ]
  },
  {
   "cell_type": "code",
   "execution_count": 6,
   "metadata": {},
   "outputs": [
    {
     "data": {
      "text/html": [
       "<div>\n",
       "<style scoped>\n",
       "    .dataframe tbody tr th:only-of-type {\n",
       "        vertical-align: middle;\n",
       "    }\n",
       "\n",
       "    .dataframe tbody tr th {\n",
       "        vertical-align: top;\n",
       "    }\n",
       "\n",
       "    .dataframe thead th {\n",
       "        text-align: right;\n",
       "    }\n",
       "</style>\n",
       "<table border=\"1\" class=\"dataframe\">\n",
       "  <thead>\n",
       "    <tr style=\"text-align: right;\">\n",
       "      <th></th>\n",
       "      <th>user_id</th>\n",
       "      <th>user_url</th>\n",
       "      <th>reviews</th>\n",
       "    </tr>\n",
       "  </thead>\n",
       "  <tbody>\n",
       "    <tr>\n",
       "      <th>0</th>\n",
       "      <td>76561197970982479</td>\n",
       "      <td>http://steamcommunity.com/profiles/76561197970...</td>\n",
       "      <td>[{'funny': '', 'helpful': 'No ratings yet', 'i...</td>\n",
       "    </tr>\n",
       "    <tr>\n",
       "      <th>1</th>\n",
       "      <td>js41637</td>\n",
       "      <td>http://steamcommunity.com/id/js41637</td>\n",
       "      <td>[{'funny': '', 'helpful': '15 of 20 people (75...</td>\n",
       "    </tr>\n",
       "  </tbody>\n",
       "</table>\n",
       "</div>"
      ],
      "text/plain": [
       "             user_id                                           user_url  \\\n",
       "0  76561197970982479  http://steamcommunity.com/profiles/76561197970...   \n",
       "1            js41637               http://steamcommunity.com/id/js41637   \n",
       "\n",
       "                                             reviews  \n",
       "0  [{'funny': '', 'helpful': 'No ratings yet', 'i...  \n",
       "1  [{'funny': '', 'helpful': '15 of 20 people (75...  "
      ]
     },
     "execution_count": 6,
     "metadata": {},
     "output_type": "execute_result"
    }
   ],
   "source": [
    "df_reviews.head(2)"
   ]
  },
  {
   "cell_type": "code",
   "execution_count": 7,
   "metadata": {},
   "outputs": [],
   "source": [
    "# Expandir la columna 'reviews' en filas separadas \n",
    "df_expandido = df_reviews.explode('reviews').reset_index(drop=True)  # Resetear el índice para tener un índice único\n",
    "\n",
    "# Normalizar la columna 'reviews' en nuevas columnas\n",
    "df_dicc = pd.json_normalize(df_expandido['reviews'])\n",
    "\n",
    "# Concatenar las nuevas columnas con el DataFrame original 'df_reviews'\n",
    "df_reviews = pd.concat([df_expandido.drop('reviews', axis=1), df_dicc], axis=1)"
   ]
  },
  {
   "cell_type": "code",
   "execution_count": 8,
   "metadata": {},
   "outputs": [
    {
     "name": "stdout",
     "output_type": "stream",
     "text": [
      "<class 'pandas.core.frame.DataFrame'>\n",
      "RangeIndex: 59333 entries, 0 to 59332\n",
      "Data columns (total 9 columns):\n",
      " #   Column       Non-Null Count  Dtype \n",
      "---  ------       --------------  ----- \n",
      " 0   user_id      59333 non-null  object\n",
      " 1   user_url     59333 non-null  object\n",
      " 2   funny        59305 non-null  object\n",
      " 3   helpful      59305 non-null  object\n",
      " 4   item_id      59305 non-null  object\n",
      " 5   last_edited  59305 non-null  object\n",
      " 6   posted       59305 non-null  object\n",
      " 7   recommend    59305 non-null  object\n",
      " 8   review       59305 non-null  object\n",
      "dtypes: object(9)\n",
      "memory usage: 4.1+ MB\n"
     ]
    }
   ],
   "source": [
    "df_reviews.info()"
   ]
  },
  {
   "cell_type": "code",
   "execution_count": 9,
   "metadata": {},
   "outputs": [
    {
     "data": {
      "text/plain": [
       "user_id         0\n",
       "user_url        0\n",
       "funny          28\n",
       "helpful        28\n",
       "item_id        28\n",
       "last_edited    28\n",
       "posted         28\n",
       "recommend      28\n",
       "review         28\n",
       "dtype: int64"
      ]
     },
     "execution_count": 9,
     "metadata": {},
     "output_type": "execute_result"
    }
   ],
   "source": [
    "# Contar los valores nulos por columna\n",
    "nulos_por_columna = df_reviews.isnull().sum(axis=0)\n",
    "nulos_por_columna"
   ]
  },
  {
   "cell_type": "code",
   "execution_count": 10,
   "metadata": {},
   "outputs": [
    {
     "data": {
      "text/html": [
       "<div>\n",
       "<style scoped>\n",
       "    .dataframe tbody tr th:only-of-type {\n",
       "        vertical-align: middle;\n",
       "    }\n",
       "\n",
       "    .dataframe tbody tr th {\n",
       "        vertical-align: top;\n",
       "    }\n",
       "\n",
       "    .dataframe thead th {\n",
       "        text-align: right;\n",
       "    }\n",
       "</style>\n",
       "<table border=\"1\" class=\"dataframe\">\n",
       "  <thead>\n",
       "    <tr style=\"text-align: right;\">\n",
       "      <th></th>\n",
       "      <th>user_id</th>\n",
       "      <th>user_url</th>\n",
       "      <th>funny</th>\n",
       "      <th>helpful</th>\n",
       "      <th>item_id</th>\n",
       "      <th>last_edited</th>\n",
       "      <th>posted</th>\n",
       "      <th>recommend</th>\n",
       "      <th>review</th>\n",
       "    </tr>\n",
       "  </thead>\n",
       "  <tbody>\n",
       "    <tr>\n",
       "      <th>137</th>\n",
       "      <td>gdxsd</td>\n",
       "      <td>http://steamcommunity.com/id/gdxsd</td>\n",
       "      <td>NaN</td>\n",
       "      <td>NaN</td>\n",
       "      <td>NaN</td>\n",
       "      <td>NaN</td>\n",
       "      <td>NaN</td>\n",
       "      <td>NaN</td>\n",
       "      <td>NaN</td>\n",
       "    </tr>\n",
       "    <tr>\n",
       "      <th>177</th>\n",
       "      <td>76561198094224872</td>\n",
       "      <td>http://steamcommunity.com/profiles/76561198094...</td>\n",
       "      <td>NaN</td>\n",
       "      <td>NaN</td>\n",
       "      <td>NaN</td>\n",
       "      <td>NaN</td>\n",
       "      <td>NaN</td>\n",
       "      <td>NaN</td>\n",
       "      <td>NaN</td>\n",
       "    </tr>\n",
       "    <tr>\n",
       "      <th>2559</th>\n",
       "      <td>76561198021575394</td>\n",
       "      <td>http://steamcommunity.com/profiles/76561198021...</td>\n",
       "      <td>NaN</td>\n",
       "      <td>NaN</td>\n",
       "      <td>NaN</td>\n",
       "      <td>NaN</td>\n",
       "      <td>NaN</td>\n",
       "      <td>NaN</td>\n",
       "      <td>NaN</td>\n",
       "    </tr>\n",
       "    <tr>\n",
       "      <th>10080</th>\n",
       "      <td>cmuir37</td>\n",
       "      <td>http://steamcommunity.com/id/cmuir37</td>\n",
       "      <td>NaN</td>\n",
       "      <td>NaN</td>\n",
       "      <td>NaN</td>\n",
       "      <td>NaN</td>\n",
       "      <td>NaN</td>\n",
       "      <td>NaN</td>\n",
       "      <td>NaN</td>\n",
       "    </tr>\n",
       "    <tr>\n",
       "      <th>13767</th>\n",
       "      <td>Jaysteeny</td>\n",
       "      <td>http://steamcommunity.com/id/Jaysteeny</td>\n",
       "      <td>NaN</td>\n",
       "      <td>NaN</td>\n",
       "      <td>NaN</td>\n",
       "      <td>NaN</td>\n",
       "      <td>NaN</td>\n",
       "      <td>NaN</td>\n",
       "      <td>NaN</td>\n",
       "    </tr>\n",
       "  </tbody>\n",
       "</table>\n",
       "</div>"
      ],
      "text/plain": [
       "                 user_id                                           user_url  \\\n",
       "137                gdxsd                 http://steamcommunity.com/id/gdxsd   \n",
       "177    76561198094224872  http://steamcommunity.com/profiles/76561198094...   \n",
       "2559   76561198021575394  http://steamcommunity.com/profiles/76561198021...   \n",
       "10080            cmuir37               http://steamcommunity.com/id/cmuir37   \n",
       "13767          Jaysteeny             http://steamcommunity.com/id/Jaysteeny   \n",
       "\n",
       "      funny helpful item_id last_edited posted recommend review  \n",
       "137     NaN     NaN     NaN         NaN    NaN       NaN    NaN  \n",
       "177     NaN     NaN     NaN         NaN    NaN       NaN    NaN  \n",
       "2559    NaN     NaN     NaN         NaN    NaN       NaN    NaN  \n",
       "10080   NaN     NaN     NaN         NaN    NaN       NaN    NaN  \n",
       "13767   NaN     NaN     NaN         NaN    NaN       NaN    NaN  "
      ]
     },
     "execution_count": 10,
     "metadata": {},
     "output_type": "execute_result"
    }
   ],
   "source": [
    "# Filtrar las filas donde la columna item_id es nula\n",
    "filas_nulas = df_reviews[df_reviews['funny'].isnull()]\n",
    "filas_nulas.head()"
   ]
  },
  {
   "cell_type": "code",
   "execution_count": 11,
   "metadata": {},
   "outputs": [],
   "source": [
    "'''\n",
    "Eliminar filas completas donde la columna funny es nula\n",
    "no exite manera de recuperar el valor de esta columna en estas filas\n",
    "esto en total representa el 0.1% de los registros del Dataframe\n",
    "'''\n",
    "df_reviews = df_reviews.dropna(subset=['funny'])\n",
    "\n",
    "\n",
    "# Reiniciar el índice del DataFrame\n",
    "df_reviews = df_reviews.reset_index(drop=True)"
   ]
  },
  {
   "cell_type": "code",
   "execution_count": 12,
   "metadata": {},
   "outputs": [
    {
     "data": {
      "text/html": [
       "<div>\n",
       "<style scoped>\n",
       "    .dataframe tbody tr th:only-of-type {\n",
       "        vertical-align: middle;\n",
       "    }\n",
       "\n",
       "    .dataframe tbody tr th {\n",
       "        vertical-align: top;\n",
       "    }\n",
       "\n",
       "    .dataframe thead th {\n",
       "        text-align: right;\n",
       "    }\n",
       "</style>\n",
       "<table border=\"1\" class=\"dataframe\">\n",
       "  <thead>\n",
       "    <tr style=\"text-align: right;\">\n",
       "      <th></th>\n",
       "      <th>user_id</th>\n",
       "      <th>user_url</th>\n",
       "      <th>funny</th>\n",
       "      <th>helpful</th>\n",
       "      <th>item_id</th>\n",
       "      <th>last_edited</th>\n",
       "      <th>posted</th>\n",
       "      <th>recommend</th>\n",
       "      <th>review</th>\n",
       "    </tr>\n",
       "  </thead>\n",
       "  <tbody>\n",
       "    <tr>\n",
       "      <th>0</th>\n",
       "      <td>76561197970982479</td>\n",
       "      <td>http://steamcommunity.com/profiles/76561197970...</td>\n",
       "      <td></td>\n",
       "      <td>No ratings yet</td>\n",
       "      <td>1250</td>\n",
       "      <td></td>\n",
       "      <td>Posted November 5, 2011.</td>\n",
       "      <td>True</td>\n",
       "      <td>Simple yet with great replayability. In my opi...</td>\n",
       "    </tr>\n",
       "  </tbody>\n",
       "</table>\n",
       "</div>"
      ],
      "text/plain": [
       "             user_id                                           user_url funny  \\\n",
       "0  76561197970982479  http://steamcommunity.com/profiles/76561197970...         \n",
       "\n",
       "          helpful item_id last_edited                    posted recommend  \\\n",
       "0  No ratings yet    1250              Posted November 5, 2011.      True   \n",
       "\n",
       "                                              review  \n",
       "0  Simple yet with great replayability. In my opi...  "
      ]
     },
     "execution_count": 12,
     "metadata": {},
     "output_type": "execute_result"
    }
   ],
   "source": [
    "df_reviews.head(1)"
   ]
  },
  {
   "cell_type": "code",
   "execution_count": 13,
   "metadata": {},
   "outputs": [],
   "source": [
    "# Seleccionar solo las columnas deseadas del DataFrame original\n",
    "columnas = ['user_id', 'item_id', 'last_edited', 'posted', 'recommend', 'review']\n",
    "df_reviews = df_reviews[columnas]"
   ]
  },
  {
   "cell_type": "code",
   "execution_count": 14,
   "metadata": {},
   "outputs": [
    {
     "data": {
      "text/html": [
       "<div>\n",
       "<style scoped>\n",
       "    .dataframe tbody tr th:only-of-type {\n",
       "        vertical-align: middle;\n",
       "    }\n",
       "\n",
       "    .dataframe tbody tr th {\n",
       "        vertical-align: top;\n",
       "    }\n",
       "\n",
       "    .dataframe thead th {\n",
       "        text-align: right;\n",
       "    }\n",
       "</style>\n",
       "<table border=\"1\" class=\"dataframe\">\n",
       "  <thead>\n",
       "    <tr style=\"text-align: right;\">\n",
       "      <th></th>\n",
       "      <th>user_id</th>\n",
       "      <th>item_id</th>\n",
       "      <th>last_edited</th>\n",
       "      <th>posted</th>\n",
       "      <th>recommend</th>\n",
       "      <th>review</th>\n",
       "    </tr>\n",
       "  </thead>\n",
       "  <tbody>\n",
       "    <tr>\n",
       "      <th>0</th>\n",
       "      <td>76561197970982479</td>\n",
       "      <td>1250</td>\n",
       "      <td></td>\n",
       "      <td>Posted November 5, 2011.</td>\n",
       "      <td>True</td>\n",
       "      <td>Simple yet with great replayability. In my opi...</td>\n",
       "    </tr>\n",
       "    <tr>\n",
       "      <th>1</th>\n",
       "      <td>76561197970982479</td>\n",
       "      <td>22200</td>\n",
       "      <td></td>\n",
       "      <td>Posted July 15, 2011.</td>\n",
       "      <td>True</td>\n",
       "      <td>It's unique and worth a playthrough.</td>\n",
       "    </tr>\n",
       "    <tr>\n",
       "      <th>2</th>\n",
       "      <td>76561197970982479</td>\n",
       "      <td>43110</td>\n",
       "      <td></td>\n",
       "      <td>Posted April 21, 2011.</td>\n",
       "      <td>True</td>\n",
       "      <td>Great atmosphere. The gunplay can be a bit chu...</td>\n",
       "    </tr>\n",
       "    <tr>\n",
       "      <th>3</th>\n",
       "      <td>js41637</td>\n",
       "      <td>251610</td>\n",
       "      <td></td>\n",
       "      <td>Posted June 24, 2014.</td>\n",
       "      <td>True</td>\n",
       "      <td>I know what you think when you see this title ...</td>\n",
       "    </tr>\n",
       "    <tr>\n",
       "      <th>4</th>\n",
       "      <td>js41637</td>\n",
       "      <td>227300</td>\n",
       "      <td></td>\n",
       "      <td>Posted September 8, 2013.</td>\n",
       "      <td>True</td>\n",
       "      <td>For a simple (it's actually not all that simpl...</td>\n",
       "    </tr>\n",
       "  </tbody>\n",
       "</table>\n",
       "</div>"
      ],
      "text/plain": [
       "             user_id item_id last_edited                     posted recommend  \\\n",
       "0  76561197970982479    1250               Posted November 5, 2011.      True   \n",
       "1  76561197970982479   22200                  Posted July 15, 2011.      True   \n",
       "2  76561197970982479   43110                 Posted April 21, 2011.      True   \n",
       "3            js41637  251610                  Posted June 24, 2014.      True   \n",
       "4            js41637  227300              Posted September 8, 2013.      True   \n",
       "\n",
       "                                              review  \n",
       "0  Simple yet with great replayability. In my opi...  \n",
       "1               It's unique and worth a playthrough.  \n",
       "2  Great atmosphere. The gunplay can be a bit chu...  \n",
       "3  I know what you think when you see this title ...  \n",
       "4  For a simple (it's actually not all that simpl...  "
      ]
     },
     "execution_count": 14,
     "metadata": {},
     "output_type": "execute_result"
    }
   ],
   "source": [
    "df_reviews.head()"
   ]
  },
  {
   "cell_type": "code",
   "execution_count": 15,
   "metadata": {},
   "outputs": [
    {
     "data": {
      "text/html": [
       "<div>\n",
       "<style scoped>\n",
       "    .dataframe tbody tr th:only-of-type {\n",
       "        vertical-align: middle;\n",
       "    }\n",
       "\n",
       "    .dataframe tbody tr th {\n",
       "        vertical-align: top;\n",
       "    }\n",
       "\n",
       "    .dataframe thead th {\n",
       "        text-align: right;\n",
       "    }\n",
       "</style>\n",
       "<table border=\"1\" class=\"dataframe\">\n",
       "  <thead>\n",
       "    <tr style=\"text-align: right;\">\n",
       "      <th></th>\n",
       "      <th>user_id</th>\n",
       "      <th>item_id</th>\n",
       "      <th>last_edited</th>\n",
       "      <th>posted</th>\n",
       "      <th>recommend</th>\n",
       "      <th>review</th>\n",
       "      <th>intermediate_date</th>\n",
       "    </tr>\n",
       "  </thead>\n",
       "  <tbody>\n",
       "    <tr>\n",
       "      <th>0</th>\n",
       "      <td>76561197970982479</td>\n",
       "      <td>1250</td>\n",
       "      <td></td>\n",
       "      <td>Posted November 5, 2011.</td>\n",
       "      <td>True</td>\n",
       "      <td>Simple yet with great replayability. In my opi...</td>\n",
       "      <td>Posted November 5, 2011.</td>\n",
       "    </tr>\n",
       "    <tr>\n",
       "      <th>1</th>\n",
       "      <td>76561197970982479</td>\n",
       "      <td>22200</td>\n",
       "      <td></td>\n",
       "      <td>Posted July 15, 2011.</td>\n",
       "      <td>True</td>\n",
       "      <td>It's unique and worth a playthrough.</td>\n",
       "      <td>Posted July 15, 2011.</td>\n",
       "    </tr>\n",
       "    <tr>\n",
       "      <th>2</th>\n",
       "      <td>76561197970982479</td>\n",
       "      <td>43110</td>\n",
       "      <td></td>\n",
       "      <td>Posted April 21, 2011.</td>\n",
       "      <td>True</td>\n",
       "      <td>Great atmosphere. The gunplay can be a bit chu...</td>\n",
       "      <td>Posted April 21, 2011.</td>\n",
       "    </tr>\n",
       "    <tr>\n",
       "      <th>3</th>\n",
       "      <td>js41637</td>\n",
       "      <td>251610</td>\n",
       "      <td></td>\n",
       "      <td>Posted June 24, 2014.</td>\n",
       "      <td>True</td>\n",
       "      <td>I know what you think when you see this title ...</td>\n",
       "      <td>Posted June 24, 2014.</td>\n",
       "    </tr>\n",
       "    <tr>\n",
       "      <th>4</th>\n",
       "      <td>js41637</td>\n",
       "      <td>227300</td>\n",
       "      <td></td>\n",
       "      <td>Posted September 8, 2013.</td>\n",
       "      <td>True</td>\n",
       "      <td>For a simple (it's actually not all that simpl...</td>\n",
       "      <td>Posted September 8, 2013.</td>\n",
       "    </tr>\n",
       "  </tbody>\n",
       "</table>\n",
       "</div>"
      ],
      "text/plain": [
       "             user_id item_id last_edited                     posted recommend  \\\n",
       "0  76561197970982479    1250               Posted November 5, 2011.      True   \n",
       "1  76561197970982479   22200                  Posted July 15, 2011.      True   \n",
       "2  76561197970982479   43110                 Posted April 21, 2011.      True   \n",
       "3            js41637  251610                  Posted June 24, 2014.      True   \n",
       "4            js41637  227300              Posted September 8, 2013.      True   \n",
       "\n",
       "                                              review  \\\n",
       "0  Simple yet with great replayability. In my opi...   \n",
       "1               It's unique and worth a playthrough.   \n",
       "2  Great atmosphere. The gunplay can be a bit chu...   \n",
       "3  I know what you think when you see this title ...   \n",
       "4  For a simple (it's actually not all that simpl...   \n",
       "\n",
       "           intermediate_date  \n",
       "0   Posted November 5, 2011.  \n",
       "1      Posted July 15, 2011.  \n",
       "2     Posted April 21, 2011.  \n",
       "3      Posted June 24, 2014.  \n",
       "4  Posted September 8, 2013.  "
      ]
     },
     "execution_count": 15,
     "metadata": {},
     "output_type": "execute_result"
    }
   ],
   "source": [
    "# Crear la columna 'intermediate_date' con los valores de 'last_edited' o 'posted' en caso que la primera sea nula o vacia\n",
    "df_reviews['intermediate_date'] = df_reviews['posted'].fillna(df_reviews['last_edited'])\n",
    "df_reviews.head()"
   ]
  },
  {
   "cell_type": "code",
   "execution_count": 16,
   "metadata": {},
   "outputs": [
    {
     "data": {
      "text/html": [
       "<div>\n",
       "<style scoped>\n",
       "    .dataframe tbody tr th:only-of-type {\n",
       "        vertical-align: middle;\n",
       "    }\n",
       "\n",
       "    .dataframe tbody tr th {\n",
       "        vertical-align: top;\n",
       "    }\n",
       "\n",
       "    .dataframe thead th {\n",
       "        text-align: right;\n",
       "    }\n",
       "</style>\n",
       "<table border=\"1\" class=\"dataframe\">\n",
       "  <thead>\n",
       "    <tr style=\"text-align: right;\">\n",
       "      <th></th>\n",
       "      <th>user_id</th>\n",
       "      <th>item_id</th>\n",
       "      <th>last_edited</th>\n",
       "      <th>posted</th>\n",
       "      <th>recommend</th>\n",
       "      <th>review</th>\n",
       "      <th>intermediate_date</th>\n",
       "      <th>date</th>\n",
       "    </tr>\n",
       "  </thead>\n",
       "  <tbody>\n",
       "    <tr>\n",
       "      <th>0</th>\n",
       "      <td>76561197970982479</td>\n",
       "      <td>1250</td>\n",
       "      <td></td>\n",
       "      <td>Posted November 5, 2011.</td>\n",
       "      <td>True</td>\n",
       "      <td>Simple yet with great replayability. In my opi...</td>\n",
       "      <td>Posted November 5, 2011.</td>\n",
       "      <td>2011</td>\n",
       "    </tr>\n",
       "    <tr>\n",
       "      <th>1</th>\n",
       "      <td>76561197970982479</td>\n",
       "      <td>22200</td>\n",
       "      <td></td>\n",
       "      <td>Posted July 15, 2011.</td>\n",
       "      <td>True</td>\n",
       "      <td>It's unique and worth a playthrough.</td>\n",
       "      <td>Posted July 15, 2011.</td>\n",
       "      <td>2011</td>\n",
       "    </tr>\n",
       "  </tbody>\n",
       "</table>\n",
       "</div>"
      ],
      "text/plain": [
       "             user_id item_id last_edited                    posted recommend  \\\n",
       "0  76561197970982479    1250              Posted November 5, 2011.      True   \n",
       "1  76561197970982479   22200                 Posted July 15, 2011.      True   \n",
       "\n",
       "                                              review  \\\n",
       "0  Simple yet with great replayability. In my opi...   \n",
       "1               It's unique and worth a playthrough.   \n",
       "\n",
       "          intermediate_date  date  \n",
       "0  Posted November 5, 2011.  2011  \n",
       "1     Posted July 15, 2011.  2011  "
      ]
     },
     "execution_count": 16,
     "metadata": {},
     "output_type": "execute_result"
    }
   ],
   "source": [
    "# Extraer el año de la columna 'intermediate_date'\n",
    "df_reviews['date'] = df_reviews['intermediate_date'].str.extract(r'(\\d{4})')\n",
    "df_reviews.head(2)"
   ]
  },
  {
   "cell_type": "code",
   "execution_count": 17,
   "metadata": {},
   "outputs": [],
   "source": [
    "# Eliminar las columnas 'last_edited', 'posted' y 'intermediate_date'\n",
    "df_reviews = df_reviews.drop(columns=['last_edited', 'posted', 'intermediate_date'])"
   ]
  },
  {
   "cell_type": "code",
   "execution_count": 18,
   "metadata": {},
   "outputs": [
    {
     "data": {
      "text/plain": [
       "user_id          0\n",
       "item_id          0\n",
       "recommend        0\n",
       "review           0\n",
       "date         10119\n",
       "dtype: int64"
      ]
     },
     "execution_count": 18,
     "metadata": {},
     "output_type": "execute_result"
    }
   ],
   "source": [
    "# Contar los valores nulos por columna\n",
    "nulos_por_columna = df_reviews.isnull().sum(axis=0)\n",
    "nulos_por_columna"
   ]
  },
  {
   "cell_type": "code",
   "execution_count": 19,
   "metadata": {},
   "outputs": [],
   "source": [
    "# Eliminar las filas donde el valor de la columna 'date' es nulo\n",
    "df_reviews = df_reviews.dropna(subset=['date'])"
   ]
  },
  {
   "cell_type": "code",
   "execution_count": 20,
   "metadata": {},
   "outputs": [
    {
     "name": "stdout",
     "output_type": "stream",
     "text": [
      "<class 'pandas.core.frame.DataFrame'>\n",
      "Index: 49186 entries, 0 to 59276\n",
      "Data columns (total 5 columns):\n",
      " #   Column     Non-Null Count  Dtype \n",
      "---  ------     --------------  ----- \n",
      " 0   user_id    49186 non-null  object\n",
      " 1   item_id    49186 non-null  object\n",
      " 2   recommend  49186 non-null  object\n",
      " 3   review     49186 non-null  object\n",
      " 4   date       49186 non-null  object\n",
      "dtypes: object(5)\n",
      "memory usage: 2.3+ MB\n"
     ]
    }
   ],
   "source": [
    "df_reviews.info()"
   ]
  },
  {
   "cell_type": "code",
   "execution_count": 25,
   "metadata": {},
   "outputs": [],
   "source": [
    "# Convertir la columna 'date' a tipo entero (int) esta columna contiene el año que se hizo el 'reviews'\n",
    "df_reviews['date'] = df_reviews['date'].astype(int)"
   ]
  },
  {
   "cell_type": "code",
   "execution_count": 26,
   "metadata": {},
   "outputs": [],
   "source": [
    "# Convertir la columna 'item_id' a tipo entero (int) \n",
    "df_reviews['item_id'] = df_reviews['item_id'].astype(int)"
   ]
  },
  {
   "cell_type": "code",
   "execution_count": 28,
   "metadata": {},
   "outputs": [
    {
     "name": "stdout",
     "output_type": "stream",
     "text": [
      "<class 'pandas.core.frame.DataFrame'>\n",
      "Index: 49186 entries, 0 to 59276\n",
      "Data columns (total 5 columns):\n",
      " #   Column     Non-Null Count  Dtype \n",
      "---  ------     --------------  ----- \n",
      " 0   user_id    49186 non-null  object\n",
      " 1   item_id    49186 non-null  int32 \n",
      " 2   recommend  49186 non-null  object\n",
      " 3   review     49186 non-null  object\n",
      " 4   date       49186 non-null  int32 \n",
      "dtypes: int32(2), object(3)\n",
      "memory usage: 1.9+ MB\n"
     ]
    }
   ],
   "source": [
    "df_reviews.info()"
   ]
  },
  {
   "cell_type": "code",
   "execution_count": 30,
   "metadata": {},
   "outputs": [],
   "source": [
    "# Función para normalizar el texto \n",
    "def normalize_text(text):\n",
    "    # Convertir a minúsculas y eliminar caracteres especiales\n",
    "    text = unidecode(text.lower())\n",
    "    text = re.sub(r'[^a-z0-9\\s-]', '', text)\n",
    "    # Reemplazar guiones por espacios\n",
    "    text = text.replace('-', ' ')\n",
    "    # Eliminar espacios adicionales\n",
    "    text = re.sub(r'\\s+', ' ', text).strip()\n",
    "        # Capitalizar cada palabra\n",
    "    text = ' '.join(word.capitalize() for word in text.split())\n",
    "    return text"
   ]
  },
  {
   "cell_type": "code",
   "execution_count": 31,
   "metadata": {},
   "outputs": [],
   "source": [
    "# Aplicar la función de normalización a la columna 'user_id'\n",
    "df_reviews['user_id_normalized'] = df_reviews['user_id'].apply(normalize_text)"
   ]
  },
  {
   "cell_type": "code",
   "execution_count": 32,
   "metadata": {},
   "outputs": [],
   "source": [
    "# Convertir la columna \"user_id_normalized\" a tipo cadena (str)\n",
    "df_reviews['user_id_normalized'] = df_reviews['user_id_normalized'].astype(str)"
   ]
  },
  {
   "cell_type": "code",
   "execution_count": 33,
   "metadata": {},
   "outputs": [],
   "source": [
    "# Eliminar la columna 'user_id_normalized'\n",
    "df_reviews.drop(columns=['user_id'], inplace=True)"
   ]
  },
  {
   "cell_type": "code",
   "execution_count": 34,
   "metadata": {},
   "outputs": [],
   "source": [
    "# Cambiar el nombre de la columna 'item_name_normalized' a 'item_name'\n",
    "df_reviews.rename(columns={'user_id_normalized': 'user_id'}, inplace=True)"
   ]
  },
  {
   "cell_type": "code",
   "execution_count": 35,
   "metadata": {},
   "outputs": [],
   "source": [
    "# Resetear índices del DataFrame\n",
    "df_reviews.reset_index(drop=True, inplace=True)"
   ]
  },
  {
   "cell_type": "code",
   "execution_count": 36,
   "metadata": {},
   "outputs": [
    {
     "data": {
      "text/html": [
       "<div>\n",
       "<style scoped>\n",
       "    .dataframe tbody tr th:only-of-type {\n",
       "        vertical-align: middle;\n",
       "    }\n",
       "\n",
       "    .dataframe tbody tr th {\n",
       "        vertical-align: top;\n",
       "    }\n",
       "\n",
       "    .dataframe thead th {\n",
       "        text-align: right;\n",
       "    }\n",
       "</style>\n",
       "<table border=\"1\" class=\"dataframe\">\n",
       "  <thead>\n",
       "    <tr style=\"text-align: right;\">\n",
       "      <th></th>\n",
       "      <th>item_id</th>\n",
       "      <th>recommend</th>\n",
       "      <th>review</th>\n",
       "      <th>date</th>\n",
       "      <th>user_id</th>\n",
       "    </tr>\n",
       "  </thead>\n",
       "  <tbody>\n",
       "    <tr>\n",
       "      <th>0</th>\n",
       "      <td>1250</td>\n",
       "      <td>True</td>\n",
       "      <td>Simple yet with great replayability. In my opi...</td>\n",
       "      <td>2011</td>\n",
       "      <td>76561197970982479</td>\n",
       "    </tr>\n",
       "    <tr>\n",
       "      <th>1</th>\n",
       "      <td>22200</td>\n",
       "      <td>True</td>\n",
       "      <td>It's unique and worth a playthrough.</td>\n",
       "      <td>2011</td>\n",
       "      <td>76561197970982479</td>\n",
       "    </tr>\n",
       "  </tbody>\n",
       "</table>\n",
       "</div>"
      ],
      "text/plain": [
       "   item_id recommend                                             review  date  \\\n",
       "0     1250      True  Simple yet with great replayability. In my opi...  2011   \n",
       "1    22200      True               It's unique and worth a playthrough.  2011   \n",
       "\n",
       "             user_id  \n",
       "0  76561197970982479  \n",
       "1  76561197970982479  "
      ]
     },
     "execution_count": 36,
     "metadata": {},
     "output_type": "execute_result"
    }
   ],
   "source": [
    "df_reviews.head(2)"
   ]
  },
  {
   "cell_type": "code",
   "execution_count": 38,
   "metadata": {},
   "outputs": [],
   "source": [
    "# Convertir la columna 'recommend' a tipo entero (bool) \n",
    "df_reviews['recommend'] = df_reviews['recommend'].astype(bool)"
   ]
  },
  {
   "cell_type": "markdown",
   "metadata": {},
   "source": [
    "Hagamos el Analisis Sentimental"
   ]
  },
  {
   "cell_type": "code",
   "execution_count": 40,
   "metadata": {},
   "outputs": [
    {
     "name": "stderr",
     "output_type": "stream",
     "text": [
      "[nltk_data] Downloading package punkt to\n",
      "[nltk_data]     C:\\Users\\jhcat\\AppData\\Roaming\\nltk_data...\n",
      "[nltk_data]   Package punkt is already up-to-date!\n",
      "[nltk_data] Downloading package stopwords to\n",
      "[nltk_data]     C:\\Users\\jhcat\\AppData\\Roaming\\nltk_data...\n",
      "[nltk_data]   Package stopwords is already up-to-date!\n",
      "[nltk_data] Downloading package wordnet to\n",
      "[nltk_data]     C:\\Users\\jhcat\\AppData\\Roaming\\nltk_data...\n",
      "[nltk_data]   Package wordnet is already up-to-date!\n"
     ]
    },
    {
     "data": {
      "text/plain": [
       "True"
      ]
     },
     "execution_count": 40,
     "metadata": {},
     "output_type": "execute_result"
    }
   ],
   "source": [
    "# Descargar recursos necesarios de NLTK para hacer el Preprocesamietno de Text y posterior Analisis Sentimental\n",
    "import nltk\n",
    "nltk.download('punkt')\n",
    "nltk.download('stopwords')\n",
    "nltk.download('wordnet')"
   ]
  },
  {
   "cell_type": "code",
   "execution_count": 41,
   "metadata": {},
   "outputs": [],
   "source": [
    "# Inicializar lemmatizer y lista de stopwords\n",
    "lemmatizer = WordNetLemmatizer()\n",
    "stop_words = set(stopwords.words('english'))\n",
    "\n",
    "# Crear Función para preprocesar texto\n",
    "def preprocess_text(text):\n",
    "    # Tokenizar el texto en palabras\n",
    "    tokens = word_tokenize(text.lower())\n",
    "\n",
    "    # Eliminar signos de puntuación y palabras vacías\n",
    "    tokens = [token for token in tokens if token not in string.punctuation and token not in stop_words]\n",
    "\n",
    "    # Lematizar cada palabra\n",
    "    tokens = [lemmatizer.lemmatize(token) for token in tokens]\n",
    "\n",
    "    # Reconstruir el texto preprocesado\n",
    "    preprocessed_text = ' '.join(tokens)\n",
    "    \n",
    "    return preprocessed_text\n",
    "\n",
    "# Aplicar la función de preprocesamiento a la columna 'review' de 'df_reviews'\n",
    "df_reviews['reviews_preprocessed'] = df_reviews['review'].apply(preprocess_text)"
   ]
  },
  {
   "cell_type": "code",
   "execution_count": 42,
   "metadata": {},
   "outputs": [],
   "source": [
    "# Crear Función para asignar valores de sentimiento en la escala de 0 a 2\n",
    "def valor_sentimiento(sentimiento):\n",
    "    if sentimiento is None or sentimiento == 0:\n",
    "        return 1  # Neutral o falta de análisis\n",
    "    elif sentimiento < 0:\n",
    "        return 0  # Negativo\n",
    "    else:\n",
    "        return 2  # Positivo\n",
    "\n",
    "# Cargar DataFrame con las reseñas de los usuarios\n",
    "reviews = df_reviews['reviews_preprocessed']\n",
    "\n",
    "# Aplicar análisis de sentimiento y asignar valores en la escala\n",
    "valores_sentimiento = []\n",
    "for review in reviews:\n",
    "    blob = TextBlob(str(review))  # Convertir la reseña a cadena en caso de que sea de otro tipo\n",
    "    sentimiento = blob.sentiment.polarity\n",
    "    valor = valor_sentimiento(sentimiento)\n",
    "    valores_sentimiento.append(valor)\n",
    "\n",
    "# Agregar los valores de sentimiento al DataFrame original\n",
    "df_reviews['sentiment_analysis'] = valores_sentimiento"
   ]
  },
  {
   "cell_type": "code",
   "execution_count": 43,
   "metadata": {},
   "outputs": [],
   "source": [
    "# Eliminar las columnas 'review' y 'reviews_preprocessed' del DataFrame\n",
    "df_reviews = df_reviews.drop(['review', 'reviews_preprocessed'], axis=1)"
   ]
  },
  {
   "cell_type": "code",
   "execution_count": 44,
   "metadata": {},
   "outputs": [
    {
     "data": {
      "text/html": [
       "<div>\n",
       "<style scoped>\n",
       "    .dataframe tbody tr th:only-of-type {\n",
       "        vertical-align: middle;\n",
       "    }\n",
       "\n",
       "    .dataframe tbody tr th {\n",
       "        vertical-align: top;\n",
       "    }\n",
       "\n",
       "    .dataframe thead th {\n",
       "        text-align: right;\n",
       "    }\n",
       "</style>\n",
       "<table border=\"1\" class=\"dataframe\">\n",
       "  <thead>\n",
       "    <tr style=\"text-align: right;\">\n",
       "      <th></th>\n",
       "      <th>item_id</th>\n",
       "      <th>recommend</th>\n",
       "      <th>date</th>\n",
       "      <th>user_id</th>\n",
       "      <th>sentiment_analysis</th>\n",
       "    </tr>\n",
       "  </thead>\n",
       "  <tbody>\n",
       "    <tr>\n",
       "      <th>0</th>\n",
       "      <td>1250</td>\n",
       "      <td>True</td>\n",
       "      <td>2011</td>\n",
       "      <td>76561197970982479</td>\n",
       "      <td>2</td>\n",
       "    </tr>\n",
       "    <tr>\n",
       "      <th>1</th>\n",
       "      <td>22200</td>\n",
       "      <td>True</td>\n",
       "      <td>2011</td>\n",
       "      <td>76561197970982479</td>\n",
       "      <td>2</td>\n",
       "    </tr>\n",
       "  </tbody>\n",
       "</table>\n",
       "</div>"
      ],
      "text/plain": [
       "   item_id  recommend  date            user_id  sentiment_analysis\n",
       "0     1250       True  2011  76561197970982479                   2\n",
       "1    22200       True  2011  76561197970982479                   2"
      ]
     },
     "execution_count": 44,
     "metadata": {},
     "output_type": "execute_result"
    }
   ],
   "source": [
    "df_reviews.head(2)"
   ]
  },
  {
   "cell_type": "code",
   "execution_count": 45,
   "metadata": {},
   "outputs": [],
   "source": [
    "# Dar reset al indici del Dataframe\n",
    "df_reviews.reset_index(drop=True, inplace=True)"
   ]
  },
  {
   "cell_type": "code",
   "execution_count": 46,
   "metadata": {},
   "outputs": [
    {
     "data": {
      "text/plain": [
       "array([2, 0, 1], dtype=int64)"
      ]
     },
     "execution_count": 46,
     "metadata": {},
     "output_type": "execute_result"
    }
   ],
   "source": [
    "# Ver los valores nulos en la columna 'sentiment_analysis'\n",
    "valores_unicos = df_reviews['sentiment_analysis'].unique()\n",
    "valores_unicos"
   ]
  },
  {
   "cell_type": "code",
   "execution_count": 47,
   "metadata": {},
   "outputs": [
    {
     "data": {
      "text/plain": [
       "0"
      ]
     },
     "execution_count": 47,
     "metadata": {},
     "output_type": "execute_result"
    }
   ],
   "source": [
    "# Verificar los valores vacíos en la columna 'sentiment_analysis'\n",
    "valores_vacios = df_reviews['sentiment_analysis'].isna().sum()\n",
    "valores_vacios"
   ]
  },
  {
   "cell_type": "code",
   "execution_count": 48,
   "metadata": {},
   "outputs": [
    {
     "data": {
      "text/plain": [
       "0"
      ]
     },
     "execution_count": 48,
     "metadata": {},
     "output_type": "execute_result"
    }
   ],
   "source": [
    "# Ver los valores nulos en la columna 'sentiment_analysis'\n",
    "valores_nulos = df_reviews['sentiment_analysis'].isnull().sum()\n",
    "valores_nulos"
   ]
  },
  {
   "cell_type": "code",
   "execution_count": 49,
   "metadata": {},
   "outputs": [],
   "source": [
    "# Guardar el Dataframe trabajado como .parquet con compresión gzip\n",
    "ruta_archivo3 = \"..\\\\data\\\\users_reviews_etl_comprimido.parquet\"\n",
    "df_reviews.to_parquet(ruta_archivo3, compression='gzip')"
   ]
  }
 ],
 "metadata": {
  "kernelspec": {
   "display_name": "Python 3",
   "language": "python",
   "name": "python3"
  },
  "language_info": {
   "codemirror_mode": {
    "name": "ipython",
    "version": 3
   },
   "file_extension": ".py",
   "mimetype": "text/x-python",
   "name": "python",
   "nbconvert_exporter": "python",
   "pygments_lexer": "ipython3",
   "version": "3.12.3"
  }
 },
 "nbformat": 4,
 "nbformat_minor": 2
}
