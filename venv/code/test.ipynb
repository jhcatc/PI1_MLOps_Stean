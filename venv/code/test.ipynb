{
 "cells": [
  {
   "cell_type": "code",
   "execution_count": 1,
   "metadata": {},
   "outputs": [],
   "source": [
    "import pandas as pd\n",
    "import numpy as np\n",
    "from fastapi import FastAPI\n",
    "from fastapi import Request\n",
    "from fastapi.templating import Jinja2Templates"
   ]
  },
  {
   "cell_type": "code",
   "execution_count": 2,
   "metadata": {},
   "outputs": [],
   "source": [
    "app = FastAPI()"
   ]
  },
  {
   "cell_type": "code",
   "execution_count": 19,
   "metadata": {},
   "outputs": [],
   "source": [
    "def sentiment_analysis(año: int) -> dict:\n",
    "    # Cargar el archivo .parquet\n",
    "    df_reviews = pd.read_parquet('..\\\\data\\\\users_reviews_etl_comprimido.parquet')\n",
    "    \n",
    "    # Convertir la columna 'date' a tipo datetime\n",
    "    df_reviews['date'] = pd.to_datetime(df_reviews['date'])\n",
    "    \n",
    "    # Filtrar los datos por el año consultado\n",
    "    df_año = df_reviews[df_reviews['date'].dt.year == año]\n",
    "    \n",
    "    # Contar los valores únicos en la columna de análisis sentimental 'sentiment_analysis'\n",
    "    counts = df_año['sentiment_analysis'].value_counts().to_dict()\n",
    "    \n",
    "    # Crear un nuevo diccionario para mapear valores numéricos a etiquetas\n",
    "    mapeo_sentimientos = {0: 'Negative', 1: 'Neutral', 2: 'Positive'}\n",
    "    \n",
    "    # Crear un nuevo diccionario con las etiquetas correspondientes\n",
    "    nuevo_counts = {mapeo_sentimientos[key]: value for key, value in counts.items()}\n",
    "    \n",
    "    # Si algún tipo de análisis no está presente en el año dado, se establecera su conteo en 0\n",
    "    for sentimiento in ['Negative', 'Neutral', 'Positive']:\n",
    "        if sentimiento not in nuevo_counts:\n",
    "            nuevo_counts[sentimiento] = 0\n",
    "    \n",
    "    return nuevo_counts"
   ]
  },
  {
   "cell_type": "code",
   "execution_count": 21,
   "metadata": {},
   "outputs": [
    {
     "name": "stdout",
     "output_type": "stream",
     "text": [
      "{'Positive': 418, 'Negative': 114, 'Neutral': 0}\n"
     ]
    }
   ],
   "source": [
    "# Ejemplo de uso\n",
    "resultados = sentiment_analysis(2011)\n",
    "print(resultados)"
   ]
  }
 ],
 "metadata": {
  "kernelspec": {
   "display_name": "venv",
   "language": "python",
   "name": "python3"
  },
  "language_info": {
   "codemirror_mode": {
    "name": "ipython",
    "version": 3
   },
   "file_extension": ".py",
   "mimetype": "text/x-python",
   "name": "python",
   "nbconvert_exporter": "python",
   "pygments_lexer": "ipython3",
   "version": "3.12.3"
  }
 },
 "nbformat": 4,
 "nbformat_minor": 2
}
