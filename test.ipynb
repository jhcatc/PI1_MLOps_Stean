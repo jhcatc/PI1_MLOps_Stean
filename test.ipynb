{
 "cells": [
  {
   "cell_type": "code",
   "execution_count": 3,
   "metadata": {},
   "outputs": [],
   "source": [
    "import pandas as pd\n",
    "import numpy as np\n",
    "from fastapi import FastAPI\n",
    "from fastapi import Request\n",
    "from fastapi.templating import Jinja2Templates\n",
    "from flask import Flask, request, jsonify"
   ]
  },
  {
   "cell_type": "code",
   "execution_count": 2,
   "metadata": {},
   "outputs": [],
   "source": [
    "app = FastAPI()"
   ]
  },
  {
   "cell_type": "code",
   "execution_count": 19,
   "metadata": {},
   "outputs": [],
   "source": [
    "class SistemaRecomendacion:\n",
    "    def __init__(self, dataframe):\n",
    "        self.dataframe = dataframe\n",
    "\n",
    "    def limpiar_nombre(self, nombre):\n",
    "        # Función para limpiar el nombre del juego\n",
    "        return nombre.lower().capitalize()\n",
    "\n",
    "    def recomendacion_juego(self, id_producto:int):\n",
    "        # Función para recomendar juegos similares\n",
    "        juego = self.dataframe.loc[self.dataframe['ID'] == id_producto, 'Nombre'].iloc[0]\n",
    "        juego_limpio = self.limpiar_nombre(juego)\n",
    "        # Implementar el algoritmo de recomendación item-item aquí\n",
    "        # Por ahora, devolvemos juegos similares ficticios\n",
    "        juegos_similares = ['Juego 1', 'Juego 2', 'Juego 3', 'Juego 4', 'Juego 5']\n",
    "        return juegos_similares"
   ]
  },
  {
   "cell_type": "code",
   "execution_count": null,
   "metadata": {},
   "outputs": [],
   "source": [
    "df_sistRec = pd.read_parquet('venv/data/steam_games_etl_comprimido.parquet')"
   ]
  },
  {
   "cell_type": "code",
   "execution_count": null,
   "metadata": {},
   "outputs": [],
   "source": [
    "# Crear una instancia del sistema de recomendación\n",
    "sistema_recomendacion = SistemaRecomendacion(df_sistRec)\n",
    "\n",
    "# Crear una aplicación Flask\n",
    "app = Flask(__name__)\n"
   ]
  },
  {
   "cell_type": "code",
   "execution_count": 38,
   "metadata": {},
   "outputs": [],
   "source": [
    "import pandas as pd\n",
    "from sklearn.metrics import jaccard_score\n",
    "\n",
    "class SistemaRecomendacion:\n",
    "    def __init__(self, dataframe):\n",
    "        self.dataframe = dataframe\n",
    "\n",
    "    def calcular_similitud(self, juego_referencia):\n",
    "        # Obtener el género del juego de referencia y convertirlo en lista\n",
    "        genero_referencia = self.dataframe.loc[self.dataframe['id'] == juego_referencia, 'genres'].iloc[0].split(', ')\n",
    "        \n",
    "        # Calcular la similitud de Jaccard entre el género del juego de referencia y todos los demás juegos\n",
    "        similitudes = {}\n",
    "        for index, row in self.dataframe.iterrows():\n",
    "            if row['id'] != juego_referencia:\n",
    "                genero_otro_juego = row['genres'].split(', ')\n",
    "                similitud = jaccard_score(genero_referencia, genero_otro_juego, average='macro')\n",
    "                similitudes[row['app_name']] = similitud\n",
    "\n",
    "        # Ordenar los juegos por similitud y devolver los 5 más similares\n",
    "        juegos_similares = sorted(similitudes.items(), key=lambda x: x[1], reverse=True)[:5]\n",
    "        return juegos_similares\n"
   ]
  },
  {
   "cell_type": "code",
   "execution_count": 39,
   "metadata": {},
   "outputs": [],
   "source": [
    "# Crear una instancia del sistema de recomendación con el DataFrame df_sistRec\n",
    "df_sistRec = pd.read_parquet('venv/data/steam_games_etl_comprimido.parquet')\n",
    "sistema_recomendacion = SistemaRecomendacion(df_sistRec)"
   ]
  },
  {
   "cell_type": "code",
   "execution_count": 41,
   "metadata": {},
   "outputs": [
    {
     "name": "stdout",
     "output_type": "stream",
     "text": [
      "Recomendaciones para el juego con ID 761140 :\n",
      "Pixel Puzzles 2: Anime - Similitud: 1.0\n",
      "World of Cinema - Directors Cut - Similitud: 1.0\n",
      "Toy Soldiers: Complete - Similitud: 1.0\n",
      "Pixel Puzzles 2: RADical ROACH - Similitud: 1.0\n",
      "Aerial Destruction - Similitud: 1.0\n"
     ]
    }
   ],
   "source": [
    "# Obtener recomendaciones para un juego específico\n",
    "id_producto_consulta = 761140  # Cambia el ID del producto que deseas consultar\n",
    "recomendaciones = sistema_recomendacion.calcular_similitud(id_producto_consulta)\n",
    "print(\"Recomendaciones para el juego con ID\", id_producto_consulta, \":\")\n",
    "for juego, similitud in recomendaciones:\n",
    "    print(juego, \"- Similitud:\", similitud)"
   ]
  }
 ],
 "metadata": {
  "kernelspec": {
   "display_name": "venv",
   "language": "python",
   "name": "python3"
  },
  "language_info": {
   "codemirror_mode": {
    "name": "ipython",
    "version": 3
   },
   "file_extension": ".py",
   "mimetype": "text/x-python",
   "name": "python",
   "nbconvert_exporter": "python",
   "pygments_lexer": "ipython3",
   "version": "3.12.3"
  }
 },
 "nbformat": 4,
 "nbformat_minor": 2
}
